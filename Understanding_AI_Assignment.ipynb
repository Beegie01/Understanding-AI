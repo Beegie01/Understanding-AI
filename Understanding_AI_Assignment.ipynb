{
 "cells": [
  {
   "cell_type": "markdown",
   "id": "e7279b59",
   "metadata": {},
   "source": [
    "<div align='left'>\n",
    "    STUDENT NAME: <b>Osagie Elliot Aibangbee</b><br>\n",
    "    STUDENT NUMBER: <b>202115576</b><br>\n",
    "    DEGREE PROGRAMME: <b>MSc in Artificial Intelligence and Data Science</b><br>\n",
    "    YEAR OF STUDY: <b>2021</b><br>\n",
    "    MODULE CODE:<b>771763</b><br>\n",
    "    MODULE TITLE: <b>Understanding Artificial Intelligence</b><br>\n",
    "    DATE: <b>14-December-2021</b><br>\n",
    "    ASSIGNMENT TITLE: <b>Assignment - Understanding Artificial Intelligence</b><br>\n",
    "</div>"
   ]
  },
  {
   "cell_type": "code",
   "execution_count": 1,
   "id": "9b151927",
   "metadata": {},
   "outputs": [],
   "source": [
    "import seaborn as sns\n",
    "from seaborn.utils import os, np, plt, pd"
   ]
  },
  {
   "cell_type": "markdown",
   "id": "83affb10",
   "metadata": {},
   "source": [
    "___"
   ]
  },
  {
   "cell_type": "markdown",
   "id": "97324782",
   "metadata": {},
   "source": [
    "## WATER QUALITY ANALYSIS"
   ]
  },
  {
   "cell_type": "markdown",
   "id": "32507c74",
   "metadata": {},
   "source": [
    "#### Task:\n",
    "Data Analytics, Interpretation & Visualisation"
   ]
  },
  {
   "cell_type": "code",
   "execution_count": 2,
   "id": "96264aa8",
   "metadata": {},
   "outputs": [],
   "source": [
    "# Load Excel workbook\n",
    "excel_workbook = pd.read_excel('results-2021-cefas-website.xlsx', sheet_name=None)"
   ]
  },
  {
   "cell_type": "code",
   "execution_count": 3,
   "id": "6f21b1ef",
   "metadata": {},
   "outputs": [
    {
     "data": {
      "text/plain": [
       "dict_keys(['Flesh results', 'Phytoplankton results', 'Methods characteristics', 'Abbreviations '])"
      ]
     },
     "execution_count": 3,
     "metadata": {},
     "output_type": "execute_result"
    }
   ],
   "source": [
    "excel_workbook.keys()"
   ]
  },
  {
   "cell_type": "code",
   "execution_count": 4,
   "id": "94d4f1c3",
   "metadata": {},
   "outputs": [],
   "source": [
    "# select sheet from workbook\n",
    "phyto_df = excel_workbook['Phytoplankton results']"
   ]
  },
  {
   "cell_type": "code",
   "execution_count": 5,
   "id": "d57315a1",
   "metadata": {},
   "outputs": [
    {
     "name": "stdout",
     "output_type": "stream",
     "text": [
      "<class 'pandas.core.frame.DataFrame'>\n",
      "RangeIndex: 895 entries, 0 to 894\n",
      "Data columns (total 14 columns):\n",
      " #   Column                                      Non-Null Count  Dtype \n",
      "---  ------                                      --------------  ----- \n",
      " 0   Phytoplankton Monitoring Programme results  892 non-null    object\n",
      " 1   Unnamed: 1                                  882 non-null    object\n",
      " 2   Unnamed: 2                                  882 non-null    object\n",
      " 3   Unnamed: 3                                  883 non-null    object\n",
      " 4   Unnamed: 4                                  882 non-null    object\n",
      " 5   Unnamed: 5                                  883 non-null    object\n",
      " 6   Unnamed: 6                                  883 non-null    object\n",
      " 7   Unnamed: 7                                  883 non-null    object\n",
      " 8   Unnamed: 8                                  882 non-null    object\n",
      " 9   Unnamed: 9                                  882 non-null    object\n",
      " 10  Unnamed: 10                                 882 non-null    object\n",
      " 11  Unnamed: 11                                 882 non-null    object\n",
      " 12  Unnamed: 12                                 883 non-null    object\n",
      " 13  Unnamed: 13                                 883 non-null    object\n",
      "dtypes: object(14)\n",
      "memory usage: 98.0+ KB\n"
     ]
    }
   ],
   "source": [
    "phyto_df.info()"
   ]
  },
  {
   "cell_type": "code",
   "execution_count": 6,
   "id": "2e263958",
   "metadata": {},
   "outputs": [
    {
     "data": {
      "text/html": [
       "<div>\n",
       "<style scoped>\n",
       "    .dataframe tbody tr th:only-of-type {\n",
       "        vertical-align: middle;\n",
       "    }\n",
       "\n",
       "    .dataframe tbody tr th {\n",
       "        vertical-align: top;\n",
       "    }\n",
       "\n",
       "    .dataframe thead th {\n",
       "        text-align: right;\n",
       "    }\n",
       "</style>\n",
       "<table border=\"1\" class=\"dataframe\">\n",
       "  <thead>\n",
       "    <tr style=\"text-align: right;\">\n",
       "      <th></th>\n",
       "      <th>Phytoplankton Monitoring Programme results</th>\n",
       "      <th>Unnamed: 1</th>\n",
       "      <th>Unnamed: 2</th>\n",
       "      <th>Unnamed: 3</th>\n",
       "      <th>Unnamed: 4</th>\n",
       "      <th>Unnamed: 5</th>\n",
       "      <th>Unnamed: 6</th>\n",
       "      <th>Unnamed: 7</th>\n",
       "      <th>Unnamed: 8</th>\n",
       "      <th>Unnamed: 9</th>\n",
       "      <th>Unnamed: 10</th>\n",
       "      <th>Unnamed: 11</th>\n",
       "      <th>Unnamed: 12</th>\n",
       "      <th>Unnamed: 13</th>\n",
       "    </tr>\n",
       "  </thead>\n",
       "  <tbody>\n",
       "    <tr>\n",
       "      <th>0</th>\n",
       "      <td>Sample number</td>\n",
       "      <td>Production area</td>\n",
       "      <td>Bed ID</td>\n",
       "      <td>Local authority</td>\n",
       "      <td>Grid reference\\n\\nNote 1</td>\n",
       "      <td>Sampling point</td>\n",
       "      <td>Date sample collected</td>\n",
       "      <td>Alexandrium spp. \\ncells L-1\\n(PSP)</td>\n",
       "      <td>Dinophysiaceae \\ncells L-1\\n(DSP)</td>\n",
       "      <td>Prorocentrum lima \\ncells L-1\\n(DSP)</td>\n",
       "      <td>Pseudo-nitzschia spp. \\ncells L-1\\n(ASP)</td>\n",
       "      <td>Ligulodinium polyedrum \\ncells L-1\\n(Yessotoxin)</td>\n",
       "      <td>Protoceratium reticulatum \\ncells L-1\\n(Yessot...</td>\n",
       "      <td>Prorocentrum cordatum \\ncells L-1\\n(Venerupin)</td>\n",
       "    </tr>\n",
       "    <tr>\n",
       "      <th>1</th>\n",
       "      <td>1/21</td>\n",
       "      <td>Solent</td>\n",
       "      <td>B24BK</td>\n",
       "      <td>Southampton PHA</td>\n",
       "      <td>SZ57479794</td>\n",
       "      <td>Browndown</td>\n",
       "      <td>2021-01-04 11:00:00</td>\n",
       "      <td>ND</td>\n",
       "      <td>ND</td>\n",
       "      <td>ND</td>\n",
       "      <td>ND</td>\n",
       "      <td>ND</td>\n",
       "      <td>ND</td>\n",
       "      <td>ND</td>\n",
       "    </tr>\n",
       "    <tr>\n",
       "      <th>2</th>\n",
       "      <td>2/21</td>\n",
       "      <td>Southampton Water</td>\n",
       "      <td>B21AT</td>\n",
       "      <td>Southampton PHA</td>\n",
       "      <td>SU48760530</td>\n",
       "      <td>Hamble Estuary</td>\n",
       "      <td>2021-01-04 08:30:00</td>\n",
       "      <td>ND</td>\n",
       "      <td>ND</td>\n",
       "      <td>ND</td>\n",
       "      <td>ND</td>\n",
       "      <td>ND</td>\n",
       "      <td>ND</td>\n",
       "      <td>ND</td>\n",
       "    </tr>\n",
       "    <tr>\n",
       "      <th>3</th>\n",
       "      <td>3/21</td>\n",
       "      <td>Brancaster</td>\n",
       "      <td>B05AS</td>\n",
       "      <td>Kings Lynn &amp; W Norfolk BC</td>\n",
       "      <td>TF79884539</td>\n",
       "      <td>Norton Creek Mussels</td>\n",
       "      <td>2021-01-05 10:30:00</td>\n",
       "      <td>ND</td>\n",
       "      <td>ND</td>\n",
       "      <td>ND</td>\n",
       "      <td>400</td>\n",
       "      <td>ND</td>\n",
       "      <td>ND</td>\n",
       "      <td>ND</td>\n",
       "    </tr>\n",
       "    <tr>\n",
       "      <th>4</th>\n",
       "      <td>4/21</td>\n",
       "      <td>Porlock</td>\n",
       "      <td>B094D</td>\n",
       "      <td>Somerset West and Taunton Council</td>\n",
       "      <td>SS87114787</td>\n",
       "      <td>Porlock East</td>\n",
       "      <td>2021-01-05 11:00:00</td>\n",
       "      <td>ND</td>\n",
       "      <td>ND</td>\n",
       "      <td>ND</td>\n",
       "      <td>ND</td>\n",
       "      <td>ND</td>\n",
       "      <td>ND</td>\n",
       "      <td>ND</td>\n",
       "    </tr>\n",
       "  </tbody>\n",
       "</table>\n",
       "</div>"
      ],
      "text/plain": [
       "  Phytoplankton Monitoring Programme results         Unnamed: 1 Unnamed: 2  \\\n",
       "0                              Sample number    Production area     Bed ID   \n",
       "1                                       1/21             Solent      B24BK   \n",
       "2                                       2/21  Southampton Water      B21AT   \n",
       "3                                       3/21         Brancaster      B05AS   \n",
       "4                                       4/21            Porlock      B094D   \n",
       "\n",
       "                          Unnamed: 3                             Unnamed: 4  \\\n",
       "0                    Local authority  Grid reference\\n\\nNote 1                \n",
       "1                    Southampton PHA                             SZ57479794   \n",
       "2                    Southampton PHA                             SU48760530   \n",
       "3          Kings Lynn & W Norfolk BC                             TF79884539   \n",
       "4  Somerset West and Taunton Council                             SS87114787   \n",
       "\n",
       "             Unnamed: 5             Unnamed: 6  \\\n",
       "0        Sampling point  Date sample collected   \n",
       "1             Browndown    2021-01-04 11:00:00   \n",
       "2        Hamble Estuary    2021-01-04 08:30:00   \n",
       "3  Norton Creek Mussels    2021-01-05 10:30:00   \n",
       "4          Porlock East    2021-01-05 11:00:00   \n",
       "\n",
       "                            Unnamed: 7                         Unnamed: 8  \\\n",
       "0  Alexandrium spp. \\ncells L-1\\n(PSP)  Dinophysiaceae \\ncells L-1\\n(DSP)   \n",
       "1                                   ND                                 ND   \n",
       "2                                   ND                                 ND   \n",
       "3                                   ND                                 ND   \n",
       "4                                   ND                                 ND   \n",
       "\n",
       "                             Unnamed: 9  \\\n",
       "0  Prorocentrum lima \\ncells L-1\\n(DSP)   \n",
       "1                                    ND   \n",
       "2                                    ND   \n",
       "3                                    ND   \n",
       "4                                    ND   \n",
       "\n",
       "                                 Unnamed: 10  \\\n",
       "0  Pseudo-nitzschia spp. \\ncells L-1\\n(ASP)    \n",
       "1                                         ND   \n",
       "2                                         ND   \n",
       "3                                        400   \n",
       "4                                         ND   \n",
       "\n",
       "                                        Unnamed: 11  \\\n",
       "0  Ligulodinium polyedrum \\ncells L-1\\n(Yessotoxin)   \n",
       "1                                                ND   \n",
       "2                                                ND   \n",
       "3                                                ND   \n",
       "4                                                ND   \n",
       "\n",
       "                                         Unnamed: 12  \\\n",
       "0  Protoceratium reticulatum \\ncells L-1\\n(Yessot...   \n",
       "1                                                 ND   \n",
       "2                                                 ND   \n",
       "3                                                 ND   \n",
       "4                                                 ND   \n",
       "\n",
       "                                       Unnamed: 13  \n",
       "0  Prorocentrum cordatum \\ncells L-1\\n(Venerupin)   \n",
       "1                                               ND  \n",
       "2                                               ND  \n",
       "3                                               ND  \n",
       "4                                               ND  "
      ]
     },
     "execution_count": 6,
     "metadata": {},
     "output_type": "execute_result"
    }
   ],
   "source": [
    "phyto_df.head()"
   ]
  },
  {
   "cell_type": "markdown",
   "id": "8d1d484a",
   "metadata": {},
   "source": [
    "#### Display last 10 rows for key instructions"
   ]
  },
  {
   "cell_type": "code",
   "execution_count": 7,
   "id": "5f45e5c3",
   "metadata": {},
   "outputs": [
    {
     "data": {
      "text/html": [
       "<div>\n",
       "<style scoped>\n",
       "    .dataframe tbody tr th:only-of-type {\n",
       "        vertical-align: middle;\n",
       "    }\n",
       "\n",
       "    .dataframe tbody tr th {\n",
       "        vertical-align: top;\n",
       "    }\n",
       "\n",
       "    .dataframe thead th {\n",
       "        text-align: right;\n",
       "    }\n",
       "</style>\n",
       "<table border=\"1\" class=\"dataframe\">\n",
       "  <thead>\n",
       "    <tr style=\"text-align: right;\">\n",
       "      <th></th>\n",
       "      <th>Phytoplankton Monitoring Programme results</th>\n",
       "      <th>Unnamed: 1</th>\n",
       "      <th>Unnamed: 2</th>\n",
       "      <th>Unnamed: 3</th>\n",
       "      <th>Unnamed: 4</th>\n",
       "      <th>Unnamed: 5</th>\n",
       "      <th>Unnamed: 6</th>\n",
       "      <th>Unnamed: 7</th>\n",
       "      <th>Unnamed: 8</th>\n",
       "      <th>Unnamed: 9</th>\n",
       "      <th>Unnamed: 10</th>\n",
       "      <th>Unnamed: 11</th>\n",
       "      <th>Unnamed: 12</th>\n",
       "      <th>Unnamed: 13</th>\n",
       "    </tr>\n",
       "  </thead>\n",
       "  <tbody>\n",
       "    <tr>\n",
       "      <th>880</th>\n",
       "      <td>912/21</td>\n",
       "      <td>Langstone Harbour</td>\n",
       "      <td>B019I</td>\n",
       "      <td>Portsmouth PHA</td>\n",
       "      <td>SU70560339</td>\n",
       "      <td>Stoke Common Lake</td>\n",
       "      <td>2021-11-16 14:30:00</td>\n",
       "      <td>ND</td>\n",
       "      <td>ND</td>\n",
       "      <td>ND</td>\n",
       "      <td>ND</td>\n",
       "      <td>ND</td>\n",
       "      <td>ND</td>\n",
       "      <td>ND</td>\n",
       "    </tr>\n",
       "    <tr>\n",
       "      <th>881</th>\n",
       "      <td>913/21</td>\n",
       "      <td>Portsmouth Harbour</td>\n",
       "      <td>B020H</td>\n",
       "      <td>Portsmouth PHA</td>\n",
       "      <td>SU62850544</td>\n",
       "      <td>Paulsgrove</td>\n",
       "      <td>2021-11-17 10:30:00</td>\n",
       "      <td>ND</td>\n",
       "      <td>ND</td>\n",
       "      <td>ND</td>\n",
       "      <td>ND</td>\n",
       "      <td>ND</td>\n",
       "      <td>ND</td>\n",
       "      <td>ND</td>\n",
       "    </tr>\n",
       "    <tr>\n",
       "      <th>882</th>\n",
       "      <td>914/21</td>\n",
       "      <td>Anglesey - Red Wharf Bay</td>\n",
       "      <td>B057J</td>\n",
       "      <td>Ynys Mon CC</td>\n",
       "      <td>SH53148022</td>\n",
       "      <td>Nodwydd</td>\n",
       "      <td>2021-11-17 09:45:00</td>\n",
       "      <td>ND</td>\n",
       "      <td>ND</td>\n",
       "      <td>ND</td>\n",
       "      <td>400</td>\n",
       "      <td>ND</td>\n",
       "      <td>ND</td>\n",
       "      <td>ND</td>\n",
       "    </tr>\n",
       "    <tr>\n",
       "      <th>883</th>\n",
       "      <td>NaN</td>\n",
       "      <td>NaN</td>\n",
       "      <td>NaN</td>\n",
       "      <td>NaN</td>\n",
       "      <td>NaN</td>\n",
       "      <td>NaN</td>\n",
       "      <td>NaN</td>\n",
       "      <td>NaN</td>\n",
       "      <td>NaN</td>\n",
       "      <td>NaN</td>\n",
       "      <td>NaN</td>\n",
       "      <td>NaN</td>\n",
       "      <td>NaN</td>\n",
       "      <td>NaN</td>\n",
       "    </tr>\n",
       "    <tr>\n",
       "      <th>884</th>\n",
       "      <td>NaN</td>\n",
       "      <td>NaN</td>\n",
       "      <td>NaN</td>\n",
       "      <td>NaN</td>\n",
       "      <td>NaN</td>\n",
       "      <td>NaN</td>\n",
       "      <td>NaN</td>\n",
       "      <td>NaN</td>\n",
       "      <td>NaN</td>\n",
       "      <td>NaN</td>\n",
       "      <td>NaN</td>\n",
       "      <td>NaN</td>\n",
       "      <td>NaN</td>\n",
       "      <td>NaN</td>\n",
       "    </tr>\n",
       "    <tr>\n",
       "      <th>885</th>\n",
       "      <td>Note</td>\n",
       "      <td>NaN</td>\n",
       "      <td>NaN</td>\n",
       "      <td>NaN</td>\n",
       "      <td>NaN</td>\n",
       "      <td>NaN</td>\n",
       "      <td>NaN</td>\n",
       "      <td>NaN</td>\n",
       "      <td>NaN</td>\n",
       "      <td>NaN</td>\n",
       "      <td>NaN</td>\n",
       "      <td>NaN</td>\n",
       "      <td>NaN</td>\n",
       "      <td>NaN</td>\n",
       "    </tr>\n",
       "    <tr>\n",
       "      <th>886</th>\n",
       "      <td>1 = Information relating to the origin of samp...</td>\n",
       "      <td>NaN</td>\n",
       "      <td>NaN</td>\n",
       "      <td>NaN</td>\n",
       "      <td>NaN</td>\n",
       "      <td>NaN</td>\n",
       "      <td>NaN</td>\n",
       "      <td>NaN</td>\n",
       "      <td>NaN</td>\n",
       "      <td>NaN</td>\n",
       "      <td>NaN</td>\n",
       "      <td>NaN</td>\n",
       "      <td>NaN</td>\n",
       "      <td>NaN</td>\n",
       "    </tr>\n",
       "    <tr>\n",
       "      <th>887</th>\n",
       "      <td>NaN</td>\n",
       "      <td>NaN</td>\n",
       "      <td>NaN</td>\n",
       "      <td>NaN</td>\n",
       "      <td>NaN</td>\n",
       "      <td>NaN</td>\n",
       "      <td>NaN</td>\n",
       "      <td>NaN</td>\n",
       "      <td>NaN</td>\n",
       "      <td>NaN</td>\n",
       "      <td>NaN</td>\n",
       "      <td>NaN</td>\n",
       "      <td>NaN</td>\n",
       "      <td>NaN</td>\n",
       "    </tr>\n",
       "    <tr>\n",
       "      <th>888</th>\n",
       "      <td>Key</td>\n",
       "      <td>NaN</td>\n",
       "      <td>NaN</td>\n",
       "      <td>NaN</td>\n",
       "      <td>NaN</td>\n",
       "      <td>NaN</td>\n",
       "      <td>NaN</td>\n",
       "      <td>NaN</td>\n",
       "      <td>NaN</td>\n",
       "      <td>NaN</td>\n",
       "      <td>NaN</td>\n",
       "      <td>NaN</td>\n",
       "      <td>NaN</td>\n",
       "      <td>NaN</td>\n",
       "    </tr>\n",
       "    <tr>\n",
       "      <th>889</th>\n",
       "      <td>The trigger levels for phytoplankton samples a...</td>\n",
       "      <td>NaN</td>\n",
       "      <td>NaN</td>\n",
       "      <td>NaN</td>\n",
       "      <td>NaN</td>\n",
       "      <td>NaN</td>\n",
       "      <td>NaN</td>\n",
       "      <td>NaN</td>\n",
       "      <td>NaN</td>\n",
       "      <td>NaN</td>\n",
       "      <td>NaN</td>\n",
       "      <td>NaN</td>\n",
       "      <td>NaN</td>\n",
       "      <td>NaN</td>\n",
       "    </tr>\n",
       "    <tr>\n",
       "      <th>890</th>\n",
       "      <td>Alexandrium spp. (PSP) - 40 cells/litre</td>\n",
       "      <td>NaN</td>\n",
       "      <td>NaN</td>\n",
       "      <td>NaN</td>\n",
       "      <td>NaN</td>\n",
       "      <td>NaN</td>\n",
       "      <td>NaN</td>\n",
       "      <td>NaN</td>\n",
       "      <td>NaN</td>\n",
       "      <td>NaN</td>\n",
       "      <td>NaN</td>\n",
       "      <td>NaN</td>\n",
       "      <td>NaN</td>\n",
       "      <td>NaN</td>\n",
       "    </tr>\n",
       "    <tr>\n",
       "      <th>891</th>\n",
       "      <td>Dinophysiaceae/Prorocentrum lima (DSP) - 100 c...</td>\n",
       "      <td>NaN</td>\n",
       "      <td>NaN</td>\n",
       "      <td>NaN</td>\n",
       "      <td>NaN</td>\n",
       "      <td>NaN</td>\n",
       "      <td>NaN</td>\n",
       "      <td>NaN</td>\n",
       "      <td>NaN</td>\n",
       "      <td>NaN</td>\n",
       "      <td>NaN</td>\n",
       "      <td>NaN</td>\n",
       "      <td>NaN</td>\n",
       "      <td>NaN</td>\n",
       "    </tr>\n",
       "    <tr>\n",
       "      <th>892</th>\n",
       "      <td>Pseudo-nitzschia spp. (ASP) - 150,000 cells/litre</td>\n",
       "      <td>NaN</td>\n",
       "      <td>NaN</td>\n",
       "      <td>NaN</td>\n",
       "      <td>NaN</td>\n",
       "      <td>NaN</td>\n",
       "      <td>NaN</td>\n",
       "      <td>NaN</td>\n",
       "      <td>NaN</td>\n",
       "      <td>NaN</td>\n",
       "      <td>NaN</td>\n",
       "      <td>NaN</td>\n",
       "      <td>NaN</td>\n",
       "      <td>NaN</td>\n",
       "    </tr>\n",
       "    <tr>\n",
       "      <th>893</th>\n",
       "      <td>Phytoplankton cell count ≥ trigger Level</td>\n",
       "      <td>NaN</td>\n",
       "      <td>NaN</td>\n",
       "      <td>NaN</td>\n",
       "      <td>NaN</td>\n",
       "      <td>NaN</td>\n",
       "      <td>NaN</td>\n",
       "      <td>NaN</td>\n",
       "      <td>NaN</td>\n",
       "      <td>NaN</td>\n",
       "      <td>NaN</td>\n",
       "      <td>NaN</td>\n",
       "      <td>NaN</td>\n",
       "      <td>NaN</td>\n",
       "    </tr>\n",
       "    <tr>\n",
       "      <th>894</th>\n",
       "      <td>Unsuitable sample</td>\n",
       "      <td>NaN</td>\n",
       "      <td>NaN</td>\n",
       "      <td>NaN</td>\n",
       "      <td>NaN</td>\n",
       "      <td>NaN</td>\n",
       "      <td>NaN</td>\n",
       "      <td>NaN</td>\n",
       "      <td>NaN</td>\n",
       "      <td>NaN</td>\n",
       "      <td>NaN</td>\n",
       "      <td>NaN</td>\n",
       "      <td>NaN</td>\n",
       "      <td>NaN</td>\n",
       "    </tr>\n",
       "  </tbody>\n",
       "</table>\n",
       "</div>"
      ],
      "text/plain": [
       "            Phytoplankton Monitoring Programme results  \\\n",
       "880                                             912/21   \n",
       "881                                             913/21   \n",
       "882                                             914/21   \n",
       "883                                                NaN   \n",
       "884                                                NaN   \n",
       "885                                               Note   \n",
       "886  1 = Information relating to the origin of samp...   \n",
       "887                                                NaN   \n",
       "888                                                Key   \n",
       "889  The trigger levels for phytoplankton samples a...   \n",
       "890            Alexandrium spp. (PSP) - 40 cells/litre   \n",
       "891  Dinophysiaceae/Prorocentrum lima (DSP) - 100 c...   \n",
       "892  Pseudo-nitzschia spp. (ASP) - 150,000 cells/litre   \n",
       "893           Phytoplankton cell count ≥ trigger Level   \n",
       "894                                  Unsuitable sample   \n",
       "\n",
       "                   Unnamed: 1 Unnamed: 2      Unnamed: 3  Unnamed: 4  \\\n",
       "880         Langstone Harbour      B019I  Portsmouth PHA  SU70560339   \n",
       "881        Portsmouth Harbour      B020H  Portsmouth PHA  SU62850544   \n",
       "882  Anglesey - Red Wharf Bay      B057J     Ynys Mon CC  SH53148022   \n",
       "883                       NaN        NaN             NaN         NaN   \n",
       "884                       NaN        NaN             NaN         NaN   \n",
       "885                       NaN        NaN             NaN         NaN   \n",
       "886                       NaN        NaN             NaN         NaN   \n",
       "887                       NaN        NaN             NaN         NaN   \n",
       "888                       NaN        NaN             NaN         NaN   \n",
       "889                       NaN        NaN             NaN         NaN   \n",
       "890                       NaN        NaN             NaN         NaN   \n",
       "891                       NaN        NaN             NaN         NaN   \n",
       "892                       NaN        NaN             NaN         NaN   \n",
       "893                       NaN        NaN             NaN         NaN   \n",
       "894                       NaN        NaN             NaN         NaN   \n",
       "\n",
       "            Unnamed: 5           Unnamed: 6 Unnamed: 7 Unnamed: 8 Unnamed: 9  \\\n",
       "880  Stoke Common Lake  2021-11-16 14:30:00         ND         ND         ND   \n",
       "881         Paulsgrove  2021-11-17 10:30:00         ND         ND         ND   \n",
       "882            Nodwydd  2021-11-17 09:45:00         ND         ND         ND   \n",
       "883                NaN                  NaN        NaN        NaN        NaN   \n",
       "884                NaN                  NaN        NaN        NaN        NaN   \n",
       "885                NaN                  NaN        NaN        NaN        NaN   \n",
       "886                NaN                  NaN        NaN        NaN        NaN   \n",
       "887                NaN                  NaN        NaN        NaN        NaN   \n",
       "888                NaN                  NaN        NaN        NaN        NaN   \n",
       "889                NaN                  NaN        NaN        NaN        NaN   \n",
       "890                NaN                  NaN        NaN        NaN        NaN   \n",
       "891                NaN                  NaN        NaN        NaN        NaN   \n",
       "892                NaN                  NaN        NaN        NaN        NaN   \n",
       "893                NaN                  NaN        NaN        NaN        NaN   \n",
       "894                NaN                  NaN        NaN        NaN        NaN   \n",
       "\n",
       "    Unnamed: 10 Unnamed: 11 Unnamed: 12 Unnamed: 13  \n",
       "880          ND          ND          ND          ND  \n",
       "881          ND          ND          ND          ND  \n",
       "882         400          ND          ND          ND  \n",
       "883         NaN         NaN         NaN         NaN  \n",
       "884         NaN         NaN         NaN         NaN  \n",
       "885         NaN         NaN         NaN         NaN  \n",
       "886         NaN         NaN         NaN         NaN  \n",
       "887         NaN         NaN         NaN         NaN  \n",
       "888         NaN         NaN         NaN         NaN  \n",
       "889         NaN         NaN         NaN         NaN  \n",
       "890         NaN         NaN         NaN         NaN  \n",
       "891         NaN         NaN         NaN         NaN  \n",
       "892         NaN         NaN         NaN         NaN  \n",
       "893         NaN         NaN         NaN         NaN  \n",
       "894         NaN         NaN         NaN         NaN  "
      ]
     },
     "execution_count": 7,
     "metadata": {},
     "output_type": "execute_result"
    }
   ],
   "source": [
    "# bottom 15 rows\n",
    "phyto_df.tail(15)"
   ]
  },
  {
   "cell_type": "markdown",
   "id": "1a00c0bf",
   "metadata": {},
   "source": [
    "### 1. Data Cleaning"
   ]
  },
  {
   "cell_type": "code",
   "execution_count": 8,
   "id": "315aaf7b",
   "metadata": {
    "scrolled": true
   },
   "outputs": [],
   "source": [
    "# get rid of default header\n",
    "# reset headers to appropriate row\n",
    "phyto_df = phyto_df.set_axis(phyto_df.loc[0], axis=1).drop(0).reset_index(drop=True)"
   ]
  },
  {
   "cell_type": "code",
   "execution_count": 9,
   "id": "2ec143be",
   "metadata": {
    "scrolled": true
   },
   "outputs": [
    {
     "name": "stdout",
     "output_type": "stream",
     "text": [
      "<class 'pandas.core.frame.DataFrame'>\n",
      "RangeIndex: 894 entries, 0 to 893\n",
      "Data columns (total 14 columns):\n",
      " #   Column                                              Non-Null Count  Dtype \n",
      "---  ------                                              --------------  ----- \n",
      " 0   Sample number                                       891 non-null    object\n",
      " 1   Production area                                     881 non-null    object\n",
      " 2   Bed ID                                              881 non-null    object\n",
      " 3   Local authority                                     882 non-null    object\n",
      " 4   Grid reference\n",
      "\n",
      "Note 1                              881 non-null    object\n",
      " 5   Sampling point                                      882 non-null    object\n",
      " 6   Date sample collected                               882 non-null    object\n",
      " 7   Alexandrium spp. \n",
      "cells L-1\n",
      "(PSP)                   882 non-null    object\n",
      " 8   Dinophysiaceae \n",
      "cells L-1\n",
      "(DSP)                     881 non-null    object\n",
      " 9   Prorocentrum lima \n",
      "cells L-1\n",
      "(DSP)                  881 non-null    object\n",
      " 10  Pseudo-nitzschia spp. \n",
      "cells L-1\n",
      "(ASP)              881 non-null    object\n",
      " 11  Ligulodinium polyedrum \n",
      "cells L-1\n",
      "(Yessotoxin)      881 non-null    object\n",
      " 12  Protoceratium reticulatum \n",
      "cells L-1\n",
      "(Yessotoxin)   882 non-null    object\n",
      " 13  Prorocentrum cordatum \n",
      "cells L-1\n",
      "(Venerupin)        882 non-null    object\n",
      "dtypes: object(14)\n",
      "memory usage: 97.9+ KB\n"
     ]
    }
   ],
   "source": [
    "phyto_df.info()"
   ]
  },
  {
   "cell_type": "code",
   "execution_count": 10,
   "id": "da035dde",
   "metadata": {
    "scrolled": true
   },
   "outputs": [],
   "source": [
    "phyto_df = phyto_df.dropna(thresh=2)"
   ]
  },
  {
   "cell_type": "code",
   "execution_count": 11,
   "id": "8e4fa21c",
   "metadata": {},
   "outputs": [
    {
     "name": "stdout",
     "output_type": "stream",
     "text": [
      "['Sample number', 'Production area', 'Bed ID', 'Local authority', 'Grid reference\\n\\nNote 1             ', 'Sampling point', 'Date sample collected', 'Alexandrium spp. \\ncells L-1\\n(PSP)', 'Dinophysiaceae \\ncells L-1\\n(DSP)', 'Prorocentrum lima \\ncells L-1\\n(DSP)', 'Pseudo-nitzschia spp. \\ncells L-1\\n(ASP) ', 'Ligulodinium polyedrum \\ncells L-1\\n(Yessotoxin)', 'Protoceratium reticulatum \\ncells L-1\\n(Yessotoxin) ', 'Prorocentrum cordatum \\ncells L-1\\n(Venerupin) ']\n"
     ]
    }
   ],
   "source": [
    "print(list(phyto_df.columns))"
   ]
  },
  {
   "cell_type": "code",
   "execution_count": 12,
   "id": "7eced058",
   "metadata": {},
   "outputs": [],
   "source": [
    "df = phyto_df.loc[:, ['Alexandrium spp. \\ncells L-1\\n(PSP)', \n",
    "                   'Dinophysiaceae \\ncells L-1\\n(DSP)',\n",
    "                   'Prorocentrum lima \\ncells L-1\\n(DSP)',\n",
    "                   'Pseudo-nitzschia spp. \\ncells L-1\\n(ASP) ']]"
   ]
  },
  {
   "cell_type": "code",
   "execution_count": 13,
   "id": "ca7c0d50",
   "metadata": {
    "scrolled": false
   },
   "outputs": [
    {
     "name": "stdout",
     "output_type": "stream",
     "text": [
      "<class 'pandas.core.frame.DataFrame'>\n",
      "Int64Index: 882 entries, 0 to 881\n",
      "Data columns (total 4 columns):\n",
      " #   Column                                   Non-Null Count  Dtype \n",
      "---  ------                                   --------------  ----- \n",
      " 0   Alexandrium spp. \n",
      "cells L-1\n",
      "(PSP)        882 non-null    object\n",
      " 1   Dinophysiaceae \n",
      "cells L-1\n",
      "(DSP)          881 non-null    object\n",
      " 2   Prorocentrum lima \n",
      "cells L-1\n",
      "(DSP)       881 non-null    object\n",
      " 3   Pseudo-nitzschia spp. \n",
      "cells L-1\n",
      "(ASP)   881 non-null    object\n",
      "dtypes: object(4)\n",
      "memory usage: 34.5+ KB\n"
     ]
    }
   ],
   "source": [
    "df.info()"
   ]
  },
  {
   "cell_type": "code",
   "execution_count": 14,
   "id": "22a0239c",
   "metadata": {},
   "outputs": [
    {
     "data": {
      "text/plain": [
       "0\n",
       "Alexandrium spp. \\ncells L-1\\n(PSP)          0\n",
       "Dinophysiaceae \\ncells L-1\\n(DSP)            1\n",
       "Prorocentrum lima \\ncells L-1\\n(DSP)         1\n",
       "Pseudo-nitzschia spp. \\ncells L-1\\n(ASP)     1\n",
       "dtype: int64"
      ]
     },
     "execution_count": 14,
     "metadata": {},
     "output_type": "execute_result"
    }
   ],
   "source": [
    "# check for null values\n",
    "df.isnull().sum()"
   ]
  },
  {
   "cell_type": "code",
   "execution_count": 15,
   "id": "02167638",
   "metadata": {
    "scrolled": true
   },
   "outputs": [
    {
     "data": {
      "text/html": [
       "<div>\n",
       "<style scoped>\n",
       "    .dataframe tbody tr th:only-of-type {\n",
       "        vertical-align: middle;\n",
       "    }\n",
       "\n",
       "    .dataframe tbody tr th {\n",
       "        vertical-align: top;\n",
       "    }\n",
       "\n",
       "    .dataframe thead th {\n",
       "        text-align: right;\n",
       "    }\n",
       "</style>\n",
       "<table border=\"1\" class=\"dataframe\">\n",
       "  <thead>\n",
       "    <tr style=\"text-align: right;\">\n",
       "      <th></th>\n",
       "      <th>Alexandrium spp. \\ncells L-1\\n(PSP)</th>\n",
       "      <th>Dinophysiaceae \\ncells L-1\\n(DSP)</th>\n",
       "      <th>Prorocentrum lima \\ncells L-1\\n(DSP)</th>\n",
       "      <th>Pseudo-nitzschia spp. \\ncells L-1\\n(ASP)</th>\n",
       "    </tr>\n",
       "  </thead>\n",
       "  <tbody>\n",
       "    <tr>\n",
       "      <th>0</th>\n",
       "      <td>ND</td>\n",
       "      <td>ND</td>\n",
       "      <td>ND</td>\n",
       "      <td>ND</td>\n",
       "    </tr>\n",
       "    <tr>\n",
       "      <th>1</th>\n",
       "      <td>ND</td>\n",
       "      <td>ND</td>\n",
       "      <td>ND</td>\n",
       "      <td>ND</td>\n",
       "    </tr>\n",
       "    <tr>\n",
       "      <th>2</th>\n",
       "      <td>ND</td>\n",
       "      <td>ND</td>\n",
       "      <td>ND</td>\n",
       "      <td>400</td>\n",
       "    </tr>\n",
       "    <tr>\n",
       "      <th>3</th>\n",
       "      <td>ND</td>\n",
       "      <td>ND</td>\n",
       "      <td>ND</td>\n",
       "      <td>ND</td>\n",
       "    </tr>\n",
       "    <tr>\n",
       "      <th>4</th>\n",
       "      <td>ND</td>\n",
       "      <td>ND</td>\n",
       "      <td>ND</td>\n",
       "      <td>ND</td>\n",
       "    </tr>\n",
       "    <tr>\n",
       "      <th>...</th>\n",
       "      <td>...</td>\n",
       "      <td>...</td>\n",
       "      <td>...</td>\n",
       "      <td>...</td>\n",
       "    </tr>\n",
       "    <tr>\n",
       "      <th>877</th>\n",
       "      <td>ND</td>\n",
       "      <td>ND</td>\n",
       "      <td>ND</td>\n",
       "      <td>ND</td>\n",
       "    </tr>\n",
       "    <tr>\n",
       "      <th>878</th>\n",
       "      <td>ND</td>\n",
       "      <td>ND</td>\n",
       "      <td>ND</td>\n",
       "      <td>80</td>\n",
       "    </tr>\n",
       "    <tr>\n",
       "      <th>879</th>\n",
       "      <td>ND</td>\n",
       "      <td>ND</td>\n",
       "      <td>ND</td>\n",
       "      <td>ND</td>\n",
       "    </tr>\n",
       "    <tr>\n",
       "      <th>880</th>\n",
       "      <td>ND</td>\n",
       "      <td>ND</td>\n",
       "      <td>ND</td>\n",
       "      <td>ND</td>\n",
       "    </tr>\n",
       "    <tr>\n",
       "      <th>881</th>\n",
       "      <td>ND</td>\n",
       "      <td>ND</td>\n",
       "      <td>ND</td>\n",
       "      <td>400</td>\n",
       "    </tr>\n",
       "  </tbody>\n",
       "</table>\n",
       "<p>882 rows × 4 columns</p>\n",
       "</div>"
      ],
      "text/plain": [
       "0   Alexandrium spp. \\ncells L-1\\n(PSP) Dinophysiaceae \\ncells L-1\\n(DSP)  \\\n",
       "0                                    ND                                ND   \n",
       "1                                    ND                                ND   \n",
       "2                                    ND                                ND   \n",
       "3                                    ND                                ND   \n",
       "4                                    ND                                ND   \n",
       "..                                  ...                               ...   \n",
       "877                                  ND                                ND   \n",
       "878                                  ND                                ND   \n",
       "879                                  ND                                ND   \n",
       "880                                  ND                                ND   \n",
       "881                                  ND                                ND   \n",
       "\n",
       "0   Prorocentrum lima \\ncells L-1\\n(DSP)  \\\n",
       "0                                     ND   \n",
       "1                                     ND   \n",
       "2                                     ND   \n",
       "3                                     ND   \n",
       "4                                     ND   \n",
       "..                                   ...   \n",
       "877                                   ND   \n",
       "878                                   ND   \n",
       "879                                   ND   \n",
       "880                                   ND   \n",
       "881                                   ND   \n",
       "\n",
       "0   Pseudo-nitzschia spp. \\ncells L-1\\n(ASP)   \n",
       "0                                          ND  \n",
       "1                                          ND  \n",
       "2                                         400  \n",
       "3                                          ND  \n",
       "4                                          ND  \n",
       "..                                        ...  \n",
       "877                                        ND  \n",
       "878                                        80  \n",
       "879                                        ND  \n",
       "880                                        ND  \n",
       "881                                       400  \n",
       "\n",
       "[882 rows x 4 columns]"
      ]
     },
     "execution_count": 15,
     "metadata": {},
     "output_type": "execute_result"
    }
   ],
   "source": [
    "df"
   ]
  },
  {
   "cell_type": "code",
   "execution_count": 16,
   "id": "f91ceb3b",
   "metadata": {},
   "outputs": [],
   "source": [
    "cols = list(df.columns)\n",
    "unq = dict()\n",
    "for i in range(len(cols)):\n",
    "    unq[cols[i]] = df[cols[i]].unique()"
   ]
  },
  {
   "cell_type": "code",
   "execution_count": 17,
   "id": "4d18c3f9",
   "metadata": {},
   "outputs": [
    {
     "data": {
      "text/plain": [
       "array(['ND', 'Unable to analyse, too much sediment', 200, 40, 100, 120,\n",
       "       80, 320, 400, 500, 'NOT TESTED, SUBMITTED IN ERROR', 160, 240],\n",
       "      dtype=object)"
      ]
     },
     "execution_count": 17,
     "metadata": {},
     "output_type": "execute_result"
    }
   ],
   "source": [
    "unq['Alexandrium spp. \\ncells L-1\\n(PSP)']"
   ]
  },
  {
   "cell_type": "code",
   "execution_count": 18,
   "id": "2df5b247",
   "metadata": {},
   "outputs": [
    {
     "data": {
      "text/plain": [
       "array(['ND', 'Unable to analyse, too much sediment', 40, 80, 160, 520,\n",
       "       240, 320, 200, 280, 400, 120, 800, 1360, 720, 640, 680, nan, 1880,\n",
       "       100, 2960, 1400, 480, 1320, 1000, 760], dtype=object)"
      ]
     },
     "execution_count": 18,
     "metadata": {},
     "output_type": "execute_result"
    }
   ],
   "source": [
    "unq['Dinophysiaceae \\ncells L-1\\n(DSP)']"
   ]
  },
  {
   "cell_type": "code",
   "execution_count": 19,
   "id": "450d9267",
   "metadata": {},
   "outputs": [
    {
     "data": {
      "text/plain": [
       "array(['ND', 'Unable to analyse, too much sediment', 100, 40, 200, 120,\n",
       "       nan, 400, 18520, 17480, 6160], dtype=object)"
      ]
     },
     "execution_count": 19,
     "metadata": {},
     "output_type": "execute_result"
    }
   ],
   "source": [
    "unq['Prorocentrum lima \\ncells L-1\\n(DSP)']"
   ]
  },
  {
   "cell_type": "code",
   "execution_count": 20,
   "id": "0b94568b",
   "metadata": {
    "scrolled": true
   },
   "outputs": [
    {
     "data": {
      "text/plain": [
       "array(['ND', 400, 'Unable to analyse, too much sediment', 200, 800, 600,\n",
       "       80, 1000, 160, 320, 560, 3600, 1160, 2400, 2700, 12720, 1400, 240,\n",
       "       640, 880, 960, 3200, 1080, 840, 3800, 2360, 4600, 8760, 3480, 120,\n",
       "       1920, 1760, 280, 1960, 5600, 4280, 3960, 8100, 10300, 3000, 1480,\n",
       "       720, 2080, 8600, 185500, 60900, 1800, 6280, 2900, 1900, 2000, 1840,\n",
       "       2280, 7080, 13080, 17400, 13720, 11300, 8300, 2100, 360, 1200,\n",
       "       4800, 1120, 66400, 152900, 71400, 13520, 42120, 38520, 1640, 1300,\n",
       "       6440, 3280, 13680, 252000, 18400, 1600, 8000, 1360, 5800, 760,\n",
       "       7560, 27800, 289400, 68760, 15280, 23000, 34600, 60000, 43000,\n",
       "       6640, 8800, 16600, 17120, 6320, 48400, 1100, 162000, 24600, 4200,\n",
       "       8920, 16320, 1680, 520, 220, 2840, 1240, 3080, 15100, 52700, 4700,\n",
       "       11560, 45440, 3520, 52200, 19240, 11000, 13600, 19360, 40, 2720,\n",
       "       7200, 1560, 24900, 58600, 753000, 6880, 2200, 118000, 5480, 480,\n",
       "       7120, 9360, 12760, 11320, 6480, 109000, 9000, 12000, 13400, 7680,\n",
       "       300, 5200, 37080, 7800, 6720, 7720, 5900, 1440, 2640, 4520, 680,\n",
       "       1040, 5120, 2160, 177000, 410000, 6240, 10800, 42200, 700, 13440,\n",
       "       7000, 9800, nan, 3120, 11160, 9400, 2500, 6000, 12640, 500, 12280,\n",
       "       2600, 3300, 5040, 920, 16480, 15200, 188000, 43520, 39680, 17960,\n",
       "       3840, 30760, 6600, 5400, 6200, 11600, 25800, 5720, 440, 2800, 1500,\n",
       "       2520, 2560, 12500, 3880, 12320, 19900, 39400, 2680, 20880, 4400,\n",
       "       13200, 4360, 1280, 3440, 7900], dtype=object)"
      ]
     },
     "execution_count": 20,
     "metadata": {},
     "output_type": "execute_result"
    }
   ],
   "source": [
    "unq['Pseudo-nitzschia spp. \\ncells L-1\\n(ASP) ']"
   ]
  },
  {
   "cell_type": "markdown",
   "id": "d26008ea",
   "metadata": {},
   "source": [
    "#### Use -1 as placeholder for values other than ND and digits"
   ]
  },
  {
   "cell_type": "code",
   "execution_count": 21,
   "id": "033cddae",
   "metadata": {},
   "outputs": [
    {
     "data": {
      "text/plain": [
       "array(['ND', 'Unable to analyse, too much sediment', 200, 40, 100, 120,\n",
       "       80, 320, 400, 500, 'NOT TESTED, SUBMITTED IN ERROR', 160, 240],\n",
       "      dtype=object)"
      ]
     },
     "execution_count": 21,
     "metadata": {},
     "output_type": "execute_result"
    }
   ],
   "source": [
    "phyto_df['Alexandrium spp. \\ncells L-1\\n(PSP)'].unique()"
   ]
  },
  {
   "cell_type": "code",
   "execution_count": 22,
   "id": "7fb23c96",
   "metadata": {},
   "outputs": [
    {
     "data": {
      "text/plain": [
       "array(['0', 'Unable to analyse, too much sediment', '200', '40', '100',\n",
       "       '120', '80', '320', '400', '500', 'NOT TESTED, SUBMITTED IN ERROR',\n",
       "       '160', '240'], dtype=object)"
      ]
     },
     "execution_count": 22,
     "metadata": {},
     "output_type": "execute_result"
    }
   ],
   "source": [
    "sr = phyto_df['Alexandrium spp. \\ncells L-1\\n(PSP)'].astype(np.str_).str.replace('ND', '0')\n",
    "sr.unique()"
   ]
  },
  {
   "cell_type": "code",
   "execution_count": 23,
   "id": "fa31e509",
   "metadata": {},
   "outputs": [],
   "source": [
    "cols = list(df.columns)\n",
    "for i in range(len(cols)):\n",
    "    # change ND to 0, and other string values to -1\n",
    "    df[cols[i]] = df[cols[i]].astype(np.str_).str.replace('ND', '0').apply(lambda val: val if str(val).isnumeric() else '-1')\n",
    "    # recast column to integer datatype\n",
    "    df[cols[i]] = df[cols[i]].astype(np.int32)"
   ]
  },
  {
   "cell_type": "code",
   "execution_count": 24,
   "id": "d30d4830",
   "metadata": {},
   "outputs": [
    {
     "data": {
      "text/plain": [
       " 0      822\n",
       "-1       21\n",
       " 40      16\n",
       " 200      7\n",
       " 100      6\n",
       " 120      2\n",
       " 500      2\n",
       " 240      2\n",
       " 80       1\n",
       " 320      1\n",
       " 400      1\n",
       " 160      1\n",
       "Name: Alexandrium spp. \\ncells L-1\\n(PSP), dtype: int64"
      ]
     },
     "execution_count": 24,
     "metadata": {},
     "output_type": "execute_result"
    }
   ],
   "source": [
    "df['Alexandrium spp. \\ncells L-1\\n(PSP)'].value_counts()"
   ]
  },
  {
   "cell_type": "code",
   "execution_count": 25,
   "id": "1c9ec0c6",
   "metadata": {},
   "outputs": [
    {
     "data": {
      "text/plain": [
       " 0        843\n",
       "-1         21\n",
       " 40         9\n",
       " 100        3\n",
       " 200        1\n",
       " 120        1\n",
       " 400        1\n",
       " 18520      1\n",
       " 17480      1\n",
       " 6160       1\n",
       "Name: Prorocentrum lima \\ncells L-1\\n(DSP), dtype: int64"
      ]
     },
     "execution_count": 25,
     "metadata": {},
     "output_type": "execute_result"
    }
   ],
   "source": [
    "df['Prorocentrum lima \\ncells L-1\\n(DSP)'].value_counts()"
   ]
  },
  {
   "cell_type": "code",
   "execution_count": 26,
   "id": "3d0c0633",
   "metadata": {
    "scrolled": true
   },
   "outputs": [
    {
     "data": {
      "text/plain": [
       " 0       412\n",
       " 400      37\n",
       "-1        21\n",
       " 200      21\n",
       " 80       21\n",
       "        ... \n",
       " 1680      1\n",
       " 1160      1\n",
       " 220       1\n",
       " 1240      1\n",
       " 7900      1\n",
       "Name: Pseudo-nitzschia spp. \\ncells L-1\\n(ASP) , Length: 209, dtype: int64"
      ]
     },
     "execution_count": 26,
     "metadata": {},
     "output_type": "execute_result"
    }
   ],
   "source": [
    "df['Pseudo-nitzschia spp. \\ncells L-1\\n(ASP) '].value_counts()"
   ]
  },
  {
   "cell_type": "markdown",
   "id": "ca62bcf9",
   "metadata": {},
   "source": [
    "### Key\n",
    "The trigger levels for phytoplankton samples are as follows (breach of these levels leads to requests for additional flesh and water samples):\n",
    "<br><br>\n",
    "***Alexandrium spp. (PSP) - 40 cells/litre<br>\n",
    "Dinophysiaceae/Prorocentrum lima (DSP) - 100 cells/litre<br>\n",
    "Pseudo-nitzschia spp. (ASP) - 150,000 cells/litre<br>\n",
    "Phytoplankton cell count ≥ trigger Level***"
   ]
  },
  {
   "cell_type": "markdown",
   "id": "55cdcb42",
   "metadata": {},
   "source": [
    "### 2. Data Labelling"
   ]
  },
  {
   "cell_type": "markdown",
   "id": "3aa2c7cd",
   "metadata": {},
   "source": [
    "#### My Method:\n",
    "1. Create fault_indicator series for each column, where 1 indicates value is above threshold, and 0 otherwise.\n",
    "2. Store each fault_indicator in a dictionary, and derive a dataframe from it.\n",
    "3. Create a final_detector series from fault_indicator dataframe, <br>\n",
    "where 1 for an above threshold value in row, and 0 for no above threshold value in row."
   ]
  },
  {
   "cell_type": "code",
   "execution_count": 27,
   "id": "0335b8c3",
   "metadata": {},
   "outputs": [],
   "source": [
    "# dictionary guide for threshold detection operation\n",
    "thresholds = {\"Alexandrium spp. \\ncells L-1\\n(PSP)\" : 40, \n",
    "              \"Dinophysiaceae \\ncells L-1\\n(DSP)\" : 100, \n",
    "              \"Prorocentrum lima \\ncells L-1\\n(DSP)\" : 100, \n",
    "              \"Pseudo-nitzschia spp. \\ncells L-1\\n(ASP) \" : 150000}"
   ]
  },
  {
   "cell_type": "code",
   "execution_count": 28,
   "id": "7f4bf2d0",
   "metadata": {},
   "outputs": [],
   "source": [
    "# dictionary of threshold indicators per column\n",
    "cols = list(df.columns)\n",
    "indicators = dict()\n",
    "for i in range(len(cols)):\n",
    "    indicators[f\"{cols[i].lower()[:5]}_indicator\"] = df[cols[i]].apply(lambda val: 1 if val >= thresholds[cols[i]] else 0)"
   ]
  },
  {
   "cell_type": "code",
   "execution_count": 29,
   "id": "f71096a5",
   "metadata": {},
   "outputs": [
    {
     "data": {
      "text/plain": [
       "dict_keys(['alexa_indicator', 'dinop_indicator', 'proro_indicator', 'pseud_indicator'])"
      ]
     },
     "execution_count": 29,
     "metadata": {},
     "output_type": "execute_result"
    }
   ],
   "source": [
    "indicators.keys()"
   ]
  },
  {
   "cell_type": "code",
   "execution_count": 30,
   "id": "3547201a",
   "metadata": {},
   "outputs": [
    {
     "data": {
      "text/plain": [
       "882"
      ]
     },
     "execution_count": 30,
     "metadata": {},
     "output_type": "execute_result"
    }
   ],
   "source": [
    "len(indicators['alexa_indicator'])"
   ]
  },
  {
   "cell_type": "code",
   "execution_count": 31,
   "id": "6554c399",
   "metadata": {},
   "outputs": [
    {
     "data": {
      "text/plain": [
       "0    0\n",
       "1    0\n",
       "2    0\n",
       "3    0\n",
       "4    0\n",
       "Name: Alexandrium spp. \\ncells L-1\\n(PSP), dtype: int64"
      ]
     },
     "execution_count": 31,
     "metadata": {},
     "output_type": "execute_result"
    }
   ],
   "source": [
    "# detector for Alexandrium\n",
    "indicators['alexa_indicator'].head()"
   ]
  },
  {
   "cell_type": "code",
   "execution_count": 32,
   "id": "e082fa8c",
   "metadata": {},
   "outputs": [
    {
     "data": {
      "text/plain": [
       "0    0\n",
       "1    0\n",
       "2    0\n",
       "3    0\n",
       "4    0\n",
       "Name: Dinophysiaceae \\ncells L-1\\n(DSP), dtype: int64"
      ]
     },
     "execution_count": 32,
     "metadata": {},
     "output_type": "execute_result"
    }
   ],
   "source": [
    "# detector for Dinophysiaceae\n",
    "indicators['dinop_indicator'].head()"
   ]
  },
  {
   "cell_type": "code",
   "execution_count": 33,
   "id": "d1b8bd22",
   "metadata": {},
   "outputs": [],
   "source": [
    "# convert indicator dictionary to a dataframe\n",
    "indicators = pd.DataFrame(indicators)"
   ]
  },
  {
   "cell_type": "code",
   "execution_count": 34,
   "id": "a4b64809",
   "metadata": {},
   "outputs": [
    {
     "data": {
      "text/html": [
       "<div>\n",
       "<style scoped>\n",
       "    .dataframe tbody tr th:only-of-type {\n",
       "        vertical-align: middle;\n",
       "    }\n",
       "\n",
       "    .dataframe tbody tr th {\n",
       "        vertical-align: top;\n",
       "    }\n",
       "\n",
       "    .dataframe thead th {\n",
       "        text-align: right;\n",
       "    }\n",
       "</style>\n",
       "<table border=\"1\" class=\"dataframe\">\n",
       "  <thead>\n",
       "    <tr style=\"text-align: right;\">\n",
       "      <th></th>\n",
       "      <th>alexa_indicator</th>\n",
       "      <th>dinop_indicator</th>\n",
       "      <th>proro_indicator</th>\n",
       "      <th>pseud_indicator</th>\n",
       "    </tr>\n",
       "  </thead>\n",
       "  <tbody>\n",
       "    <tr>\n",
       "      <th>406</th>\n",
       "      <td>0</td>\n",
       "      <td>0</td>\n",
       "      <td>0</td>\n",
       "      <td>0</td>\n",
       "    </tr>\n",
       "    <tr>\n",
       "      <th>448</th>\n",
       "      <td>1</td>\n",
       "      <td>1</td>\n",
       "      <td>0</td>\n",
       "      <td>0</td>\n",
       "    </tr>\n",
       "    <tr>\n",
       "      <th>381</th>\n",
       "      <td>0</td>\n",
       "      <td>0</td>\n",
       "      <td>0</td>\n",
       "      <td>0</td>\n",
       "    </tr>\n",
       "    <tr>\n",
       "      <th>214</th>\n",
       "      <td>0</td>\n",
       "      <td>0</td>\n",
       "      <td>0</td>\n",
       "      <td>0</td>\n",
       "    </tr>\n",
       "    <tr>\n",
       "      <th>86</th>\n",
       "      <td>0</td>\n",
       "      <td>0</td>\n",
       "      <td>0</td>\n",
       "      <td>0</td>\n",
       "    </tr>\n",
       "  </tbody>\n",
       "</table>\n",
       "</div>"
      ],
      "text/plain": [
       "     alexa_indicator  dinop_indicator  proro_indicator  pseud_indicator\n",
       "406                0                0                0                0\n",
       "448                1                1                0                0\n",
       "381                0                0                0                0\n",
       "214                0                0                0                0\n",
       "86                 0                0                0                0"
      ]
     },
     "execution_count": 34,
     "metadata": {},
     "output_type": "execute_result"
    }
   ],
   "source": [
    "indicators.sample(5)"
   ]
  },
  {
   "cell_type": "code",
   "execution_count": 35,
   "id": "cfadaa0e",
   "metadata": {},
   "outputs": [
    {
     "data": {
      "text/plain": [
       "(96, 4)"
      ]
     },
     "execution_count": 35,
     "metadata": {},
     "output_type": "execute_result"
    }
   ],
   "source": [
    "# where any of their values is above threshold\n",
    "indicators.loc[(indicators['alexa_indicator'] == 1) |\n",
    "              (indicators['dinop_indicator'] == 1) |\n",
    "              (indicators['proro_indicator'] == 1) |\n",
    "              (indicators['pseud_indicator'] == 1)].shape"
   ]
  },
  {
   "cell_type": "code",
   "execution_count": 36,
   "id": "56ec58af",
   "metadata": {
    "scrolled": true
   },
   "outputs": [
    {
     "data": {
      "text/plain": [
       "alexa_indicator    39\n",
       "dinop_indicator    51\n",
       "proro_indicator     9\n",
       "pseud_indicator    10\n",
       "dtype: int64"
      ]
     },
     "execution_count": 36,
     "metadata": {},
     "output_type": "execute_result"
    }
   ],
   "source": [
    "indicators.sum()"
   ]
  },
  {
   "cell_type": "markdown",
   "id": "088630c7",
   "metadata": {},
   "source": [
    "#### Create indicator for above threshold values\n",
    "Go through each record and output 1 if any of the row contains 1 and 0 if not."
   ]
  },
  {
   "cell_type": "code",
   "execution_count": 37,
   "id": "8d023051",
   "metadata": {},
   "outputs": [],
   "source": [
    "# convert indicator dataframe to list of dictionary records\n",
    "records = indicators.to_dict(orient='records')"
   ]
  },
  {
   "cell_type": "code",
   "execution_count": 38,
   "id": "6210367c",
   "metadata": {},
   "outputs": [],
   "source": [
    "# create a list indicating where a record has value 1\n",
    "detector = [1 if 1 in row_dict.values() else 0 for row_dict in records]"
   ]
  },
  {
   "cell_type": "code",
   "execution_count": 39,
   "id": "fe6699dc",
   "metadata": {},
   "outputs": [],
   "source": [
    "# convert list to series\n",
    "detector = pd.Series(detector, dtype=np.int32)"
   ]
  },
  {
   "cell_type": "code",
   "execution_count": 40,
   "id": "2c158ad3",
   "metadata": {},
   "outputs": [
    {
     "data": {
      "text/plain": [
       "96"
      ]
     },
     "execution_count": 40,
     "metadata": {},
     "output_type": "execute_result"
    }
   ],
   "source": [
    "detector.sum()"
   ]
  },
  {
   "cell_type": "code",
   "execution_count": 41,
   "id": "2646c229",
   "metadata": {},
   "outputs": [
    {
     "data": {
      "text/plain": [
       "(882,)"
      ]
     },
     "execution_count": 41,
     "metadata": {},
     "output_type": "execute_result"
    }
   ],
   "source": [
    "detector.shape"
   ]
  },
  {
   "cell_type": "code",
   "execution_count": 42,
   "id": "94822a77",
   "metadata": {},
   "outputs": [],
   "source": [
    "# assign series to indicators dataframe\n",
    "indicators['final_detector'] = detector"
   ]
  },
  {
   "cell_type": "code",
   "execution_count": 43,
   "id": "80338999",
   "metadata": {},
   "outputs": [],
   "source": [
    "faulty = indicators.loc[indicators['final_detector'] == 1]"
   ]
  },
  {
   "cell_type": "code",
   "execution_count": 44,
   "id": "b129ff92",
   "metadata": {},
   "outputs": [
    {
     "data": {
      "text/plain": [
       "(96, 5)"
      ]
     },
     "execution_count": 44,
     "metadata": {},
     "output_type": "execute_result"
    }
   ],
   "source": [
    "faulty.shape"
   ]
  },
  {
   "cell_type": "code",
   "execution_count": 45,
   "id": "186f577d",
   "metadata": {},
   "outputs": [
    {
     "data": {
      "text/html": [
       "<div>\n",
       "<style scoped>\n",
       "    .dataframe tbody tr th:only-of-type {\n",
       "        vertical-align: middle;\n",
       "    }\n",
       "\n",
       "    .dataframe tbody tr th {\n",
       "        vertical-align: top;\n",
       "    }\n",
       "\n",
       "    .dataframe thead th {\n",
       "        text-align: right;\n",
       "    }\n",
       "</style>\n",
       "<table border=\"1\" class=\"dataframe\">\n",
       "  <thead>\n",
       "    <tr style=\"text-align: right;\">\n",
       "      <th></th>\n",
       "      <th>alexa_indicator</th>\n",
       "      <th>dinop_indicator</th>\n",
       "      <th>proro_indicator</th>\n",
       "      <th>pseud_indicator</th>\n",
       "      <th>final_detector</th>\n",
       "    </tr>\n",
       "  </thead>\n",
       "  <tbody>\n",
       "    <tr>\n",
       "      <th>524</th>\n",
       "      <td>1</td>\n",
       "      <td>0</td>\n",
       "      <td>0</td>\n",
       "      <td>0</td>\n",
       "      <td>1</td>\n",
       "    </tr>\n",
       "    <tr>\n",
       "      <th>450</th>\n",
       "      <td>1</td>\n",
       "      <td>1</td>\n",
       "      <td>0</td>\n",
       "      <td>0</td>\n",
       "      <td>1</td>\n",
       "    </tr>\n",
       "    <tr>\n",
       "      <th>470</th>\n",
       "      <td>0</td>\n",
       "      <td>1</td>\n",
       "      <td>0</td>\n",
       "      <td>0</td>\n",
       "      <td>1</td>\n",
       "    </tr>\n",
       "    <tr>\n",
       "      <th>395</th>\n",
       "      <td>0</td>\n",
       "      <td>1</td>\n",
       "      <td>0</td>\n",
       "      <td>0</td>\n",
       "      <td>1</td>\n",
       "    </tr>\n",
       "    <tr>\n",
       "      <th>357</th>\n",
       "      <td>1</td>\n",
       "      <td>1</td>\n",
       "      <td>0</td>\n",
       "      <td>0</td>\n",
       "      <td>1</td>\n",
       "    </tr>\n",
       "    <tr>\n",
       "      <th>251</th>\n",
       "      <td>1</td>\n",
       "      <td>0</td>\n",
       "      <td>0</td>\n",
       "      <td>0</td>\n",
       "      <td>1</td>\n",
       "    </tr>\n",
       "    <tr>\n",
       "      <th>497</th>\n",
       "      <td>1</td>\n",
       "      <td>0</td>\n",
       "      <td>0</td>\n",
       "      <td>0</td>\n",
       "      <td>1</td>\n",
       "    </tr>\n",
       "    <tr>\n",
       "      <th>352</th>\n",
       "      <td>1</td>\n",
       "      <td>1</td>\n",
       "      <td>0</td>\n",
       "      <td>1</td>\n",
       "      <td>1</td>\n",
       "    </tr>\n",
       "    <tr>\n",
       "      <th>426</th>\n",
       "      <td>1</td>\n",
       "      <td>0</td>\n",
       "      <td>0</td>\n",
       "      <td>0</td>\n",
       "      <td>1</td>\n",
       "    </tr>\n",
       "    <tr>\n",
       "      <th>409</th>\n",
       "      <td>1</td>\n",
       "      <td>0</td>\n",
       "      <td>0</td>\n",
       "      <td>0</td>\n",
       "      <td>1</td>\n",
       "    </tr>\n",
       "  </tbody>\n",
       "</table>\n",
       "</div>"
      ],
      "text/plain": [
       "     alexa_indicator  dinop_indicator  proro_indicator  pseud_indicator  \\\n",
       "524                1                0                0                0   \n",
       "450                1                1                0                0   \n",
       "470                0                1                0                0   \n",
       "395                0                1                0                0   \n",
       "357                1                1                0                0   \n",
       "251                1                0                0                0   \n",
       "497                1                0                0                0   \n",
       "352                1                1                0                1   \n",
       "426                1                0                0                0   \n",
       "409                1                0                0                0   \n",
       "\n",
       "     final_detector  \n",
       "524               1  \n",
       "450               1  \n",
       "470               1  \n",
       "395               1  \n",
       "357               1  \n",
       "251               1  \n",
       "497               1  \n",
       "352               1  \n",
       "426               1  \n",
       "409               1  "
      ]
     },
     "execution_count": 45,
     "metadata": {},
     "output_type": "execute_result"
    }
   ],
   "source": [
    "faulty.sample(10)"
   ]
  },
  {
   "cell_type": "code",
   "execution_count": 46,
   "id": "da0692cb",
   "metadata": {},
   "outputs": [
    {
     "data": {
      "text/plain": [
       "(882, 4)"
      ]
     },
     "execution_count": 46,
     "metadata": {},
     "output_type": "execute_result"
    }
   ],
   "source": [
    "df.shape"
   ]
  },
  {
   "cell_type": "code",
   "execution_count": 47,
   "id": "d59916a1",
   "metadata": {},
   "outputs": [],
   "source": [
    "df['thresholds_reached'] = detector"
   ]
  },
  {
   "cell_type": "code",
   "execution_count": 48,
   "id": "d9bebe23",
   "metadata": {},
   "outputs": [
    {
     "name": "stdout",
     "output_type": "stream",
     "text": [
      "<class 'pandas.core.frame.DataFrame'>\n",
      "Int64Index: 882 entries, 0 to 881\n",
      "Data columns (total 5 columns):\n",
      " #   Column                                   Non-Null Count  Dtype\n",
      "---  ------                                   --------------  -----\n",
      " 0   Alexandrium spp. \n",
      "cells L-1\n",
      "(PSP)        882 non-null    int32\n",
      " 1   Dinophysiaceae \n",
      "cells L-1\n",
      "(DSP)          882 non-null    int32\n",
      " 2   Prorocentrum lima \n",
      "cells L-1\n",
      "(DSP)       882 non-null    int32\n",
      " 3   Pseudo-nitzschia spp. \n",
      "cells L-1\n",
      "(ASP)   882 non-null    int32\n",
      " 4   thresholds_reached                       882 non-null    int32\n",
      "dtypes: int32(5)\n",
      "memory usage: 24.1 KB\n"
     ]
    }
   ],
   "source": [
    "df.info()"
   ]
  },
  {
   "cell_type": "code",
   "execution_count": 49,
   "id": "f99cad54",
   "metadata": {},
   "outputs": [],
   "source": [
    "df.to_csv(\"with_threshold_indicator.csv\", index=False)"
   ]
  },
  {
   "cell_type": "markdown",
   "id": "15ae3b02",
   "metadata": {},
   "source": [
    "### DEEP LEARNING"
   ]
  },
  {
   "cell_type": "code",
   "execution_count": 2,
   "id": "5679d2d7",
   "metadata": {},
   "outputs": [],
   "source": [
    "from keras import models, layers\n",
    "from sklearn.model_selection import train_test_split"
   ]
  },
  {
   "cell_type": "code",
   "execution_count": 51,
   "id": "9fc0f5b6",
   "metadata": {},
   "outputs": [
    {
     "data": {
      "text/html": [
       "<div>\n",
       "<style scoped>\n",
       "    .dataframe tbody tr th:only-of-type {\n",
       "        vertical-align: middle;\n",
       "    }\n",
       "\n",
       "    .dataframe tbody tr th {\n",
       "        vertical-align: top;\n",
       "    }\n",
       "\n",
       "    .dataframe thead th {\n",
       "        text-align: right;\n",
       "    }\n",
       "</style>\n",
       "<table border=\"1\" class=\"dataframe\">\n",
       "  <thead>\n",
       "    <tr style=\"text-align: right;\">\n",
       "      <th></th>\n",
       "      <th>Alexandrium spp. \\ncells L-1\\n(PSP)</th>\n",
       "      <th>Dinophysiaceae \\ncells L-1\\n(DSP)</th>\n",
       "      <th>Prorocentrum lima \\ncells L-1\\n(DSP)</th>\n",
       "      <th>Pseudo-nitzschia spp. \\ncells L-1\\n(ASP)</th>\n",
       "      <th>thresholds_reached</th>\n",
       "    </tr>\n",
       "  </thead>\n",
       "  <tbody>\n",
       "    <tr>\n",
       "      <th>0</th>\n",
       "      <td>0</td>\n",
       "      <td>0</td>\n",
       "      <td>0</td>\n",
       "      <td>0</td>\n",
       "      <td>0</td>\n",
       "    </tr>\n",
       "    <tr>\n",
       "      <th>1</th>\n",
       "      <td>0</td>\n",
       "      <td>0</td>\n",
       "      <td>0</td>\n",
       "      <td>0</td>\n",
       "      <td>0</td>\n",
       "    </tr>\n",
       "    <tr>\n",
       "      <th>2</th>\n",
       "      <td>0</td>\n",
       "      <td>0</td>\n",
       "      <td>0</td>\n",
       "      <td>400</td>\n",
       "      <td>0</td>\n",
       "    </tr>\n",
       "    <tr>\n",
       "      <th>3</th>\n",
       "      <td>0</td>\n",
       "      <td>0</td>\n",
       "      <td>0</td>\n",
       "      <td>0</td>\n",
       "      <td>0</td>\n",
       "    </tr>\n",
       "    <tr>\n",
       "      <th>4</th>\n",
       "      <td>0</td>\n",
       "      <td>0</td>\n",
       "      <td>0</td>\n",
       "      <td>0</td>\n",
       "      <td>0</td>\n",
       "    </tr>\n",
       "  </tbody>\n",
       "</table>\n",
       "</div>"
      ],
      "text/plain": [
       "   Alexandrium spp. \\ncells L-1\\n(PSP)  Dinophysiaceae \\ncells L-1\\n(DSP)  \\\n",
       "0                                    0                                  0   \n",
       "1                                    0                                  0   \n",
       "2                                    0                                  0   \n",
       "3                                    0                                  0   \n",
       "4                                    0                                  0   \n",
       "\n",
       "   Prorocentrum lima \\ncells L-1\\n(DSP)  \\\n",
       "0                                     0   \n",
       "1                                     0   \n",
       "2                                     0   \n",
       "3                                     0   \n",
       "4                                     0   \n",
       "\n",
       "   Pseudo-nitzschia spp. \\ncells L-1\\n(ASP)   thresholds_reached  \n",
       "0                                          0                   0  \n",
       "1                                          0                   0  \n",
       "2                                        400                   0  \n",
       "3                                          0                   0  \n",
       "4                                          0                   0  "
      ]
     },
     "execution_count": 51,
     "metadata": {},
     "output_type": "execute_result"
    }
   ],
   "source": [
    "df = pd.read_csv(\"with_threshold_indicator.csv\")\n",
    "df.head()"
   ]
  },
  {
   "cell_type": "markdown",
   "id": "a1875a13",
   "metadata": {},
   "source": [
    "#### Correlation heatmatp"
   ]
  },
  {
   "cell_type": "code",
   "execution_count": 52,
   "id": "68f32486",
   "metadata": {},
   "outputs": [
    {
     "data": {
      "text/plain": [
       "Text(0.5, 1.0, 'Correlations Heatmap')"
      ]
     },
     "execution_count": 52,
     "metadata": {},
     "output_type": "execute_result"
    },
    {
     "data": {
      "image/png": "[encoded data removed]",
      "text/plain": [
       "<Figure size 800x800 with 2 Axes>"
      ]
     },
     "metadata": {
      "needs_background": "light"
     },
     "output_type": "display_data"
    }
   ],
   "source": [
    "fig = plt.figure(figsize=(4, 4), dpi=200)\n",
    "sns.heatmap(np.round(df.corr(), 2), annot=True, robust=True, square=True)\n",
    "plt.title(\"Correlations Heatmap\")"
   ]
  },
  {
   "cell_type": "code",
   "execution_count": 53,
   "id": "08ae64c3",
   "metadata": {},
   "outputs": [],
   "source": [
    "fig.savefig('df_correls.png', bbox_inches='tight', pad_inches=0.2, dpi=200)"
   ]
  },
  {
   "cell_type": "code",
   "execution_count": 54,
   "id": "80612dbd",
   "metadata": {},
   "outputs": [],
   "source": [
    "X = df.drop('thresholds_reached', axis=1)\n",
    "y = df['thresholds_reached']"
   ]
  },
  {
   "cell_type": "code",
   "execution_count": 55,
   "id": "d398e85d",
   "metadata": {},
   "outputs": [
    {
     "data": {
      "text/plain": [
       "(882, 4)"
      ]
     },
     "execution_count": 55,
     "metadata": {},
     "output_type": "execute_result"
    }
   ],
   "source": [
    "X.shape"
   ]
  },
  {
   "cell_type": "code",
   "execution_count": 56,
   "id": "de913833",
   "metadata": {},
   "outputs": [
    {
     "data": {
      "text/plain": [
       "(882,)"
      ]
     },
     "execution_count": 56,
     "metadata": {},
     "output_type": "execute_result"
    }
   ],
   "source": [
    "y.shape"
   ]
  },
  {
   "cell_type": "code",
   "execution_count": 57,
   "id": "1cd11a82",
   "metadata": {},
   "outputs": [],
   "source": [
    "x_train, x_test, y_train, y_test = train_test_split(X, y, test_size=0.2, random_state=42)"
   ]
  },
  {
   "cell_type": "code",
   "execution_count": 58,
   "id": "bb7bcd08",
   "metadata": {},
   "outputs": [],
   "source": [
    "# instantiate network model\n",
    "network = models.Sequential()\n",
    "\n",
    "# add layers to network\n",
    "network.add(layers.Dense(1000, activation='relu', input_shape=(4, )))\n",
    "network.add(layers.Dropout(0.9))\n",
    "network.add(layers.Dense(5, activation='relu'))\n",
    "network.add(layers.Dropout(0.2))\n",
    "network.add(layers.Dense(1, activation='relu'))"
   ]
  },
  {
   "cell_type": "code",
   "execution_count": 59,
   "id": "1d0f7360",
   "metadata": {
    "scrolled": false
   },
   "outputs": [
    {
     "name": "stdout",
     "output_type": "stream",
     "text": [
      "(4, 1000)\n",
      "(1000,)\n",
      "(1000, 5)\n",
      "(5,)\n",
      "(5, 1)\n",
      "(1,)\n"
     ]
    }
   ],
   "source": [
    "for w in network.weights:\n",
    "    print(w.shape)"
   ]
  },
  {
   "cell_type": "code",
   "execution_count": 60,
   "id": "930c6144",
   "metadata": {},
   "outputs": [
    {
     "name": "stdout",
     "output_type": "stream",
     "text": [
      "Model: \"sequential\"\n",
      "_________________________________________________________________\n",
      " Layer (type)                Output Shape              Param #   \n",
      "=================================================================\n",
      " dense (Dense)               (None, 1000)              5000      \n",
      "                                                                 \n",
      " dropout (Dropout)           (None, 1000)              0         \n",
      "                                                                 \n",
      " dense_1 (Dense)             (None, 5)                 5005      \n",
      "                                                                 \n",
      " dropout_1 (Dropout)         (None, 5)                 0         \n",
      "                                                                 \n",
      " dense_2 (Dense)             (None, 1)                 6         \n",
      "                                                                 \n",
      "=================================================================\n",
      "Total params: 10,011\n",
      "Trainable params: 10,011\n",
      "Non-trainable params: 0\n",
      "_________________________________________________________________\n"
     ]
    }
   ],
   "source": [
    "network.compile(loss='categorical_crossentropy',\n",
    "              optimizer='adam',\n",
    "              metrics=['accuracy'])\n",
    "network.summary()"
   ]
  },
  {
   "cell_type": "code",
   "execution_count": 61,
   "id": "e2f95dfa",
   "metadata": {
    "scrolled": true
   },
   "outputs": [
    {
     "name": "stdout",
     "output_type": "stream",
     "text": [
      "Epoch 1/10\n",
      "45/45 [==============================] - 2s 13ms/step - loss: nan - accuracy: 0.8865 - val_loss: nan - val_accuracy: 0.8983\n",
      "Epoch 2/10\n",
      "45/45 [==============================] - 0s 5ms/step - loss: nan - accuracy: 0.8894 - val_loss: nan - val_accuracy: 0.8983\n",
      "Epoch 3/10\n",
      "45/45 [==============================] - 0s 5ms/step - loss: nan - accuracy: 0.8894 - val_loss: nan - val_accuracy: 0.8983\n",
      "Epoch 4/10\n",
      "45/45 [==============================] - 0s 5ms/step - loss: nan - accuracy: 0.8894 - val_loss: nan - val_accuracy: 0.8983\n",
      "Epoch 5/10\n",
      "45/45 [==============================] - 0s 6ms/step - loss: nan - accuracy: 0.8894 - val_loss: nan - val_accuracy: 0.8983\n",
      "Epoch 6/10\n",
      "45/45 [==============================] - 0s 6ms/step - loss: nan - accuracy: 0.8894 - val_loss: nan - val_accuracy: 0.8983\n",
      "Epoch 7/10\n",
      "45/45 [==============================] - 0s 6ms/step - loss: nan - accuracy: 0.8894 - val_loss: nan - val_accuracy: 0.8983\n",
      "Epoch 8/10\n",
      "45/45 [==============================] - 0s 5ms/step - loss: nan - accuracy: 0.8894 - val_loss: nan - val_accuracy: 0.8983\n",
      "Epoch 9/10\n",
      "45/45 [==============================] - 0s 5ms/step - loss: nan - accuracy: 0.8894 - val_loss: nan - val_accuracy: 0.8983\n",
      "Epoch 10/10\n",
      "45/45 [==============================] - 0s 6ms/step - loss: nan - accuracy: 0.8894 - val_loss: nan - val_accuracy: 0.8983\n"
     ]
    }
   ],
   "source": [
    "history = network.fit(x_train, y_train,\n",
    "                      batch_size=16,\n",
    "                      epochs=10,\n",
    "                      verbose=1,\n",
    "                      validation_data=(x_test, y_test))"
   ]
  },
  {
   "cell_type": "code",
   "execution_count": 62,
   "id": "bf71c364",
   "metadata": {
    "scrolled": true
   },
   "outputs": [
    {
     "name": "stdout",
     "output_type": "stream",
     "text": [
      "sequential's Test Loss: nan\n",
      "sequential's Test Accuracy: 0.8983050584793091\n"
     ]
    }
   ],
   "source": [
    "score = network.evaluate(x_test, y_test, verbose=0)\n",
    "print(f\"{network.name}'s Test Loss: {score[0]}\\n{network.name}'s Test Accuracy: {score[1]}\")"
   ]
  },
  {
   "cell_type": "code",
   "execution_count": 63,
   "id": "045dc0da",
   "metadata": {},
   "outputs": [],
   "source": [
    "loss_values = history.history['loss']\n",
    "acc = history.history['accuracy']\n",
    "val_loss_values = history.history['val_loss']\n",
    "val_acc_values = history.history['val_accuracy']\n",
    "\n",
    "epochs = range(len(acc))"
   ]
  },
  {
   "cell_type": "code",
   "execution_count": 64,
   "id": "6852247b",
   "metadata": {},
   "outputs": [
    {
     "data": {
      "text/plain": [
       "Text(0.5, 1.0, 'Training and Validation Accuracy')"
      ]
     },
     "execution_count": 64,
     "metadata": {},
     "output_type": "execute_result"
    },
    {
     "data": {
      "text/plain": [
       "<Figure size 432x288 with 0 Axes>"
      ]
     },
     "metadata": {},
     "output_type": "display_data"
    },
    {
     "data": {
      "image/png": "[encoded data removed]",
      "text/plain": [
       "<Figure size 1000x800 with 1 Axes>"
      ]
     },
     "metadata": {},
     "output_type": "display_data"
    }
   ],
   "source": [
    "sns.set_theme(style='darkgrid')\n",
    "plt.clf()\n",
    "fig = plt.figure(figsize=(5, 4), dpi=200)\n",
    "\n",
    "sns.lineplot(x=epochs, y=acc, color='green', ls='dotted', label='Training Accuracy')\n",
    "sns.lineplot(x=epochs, y=val_acc_values, color='orange', ls='solid', label='Validation Accuracy')\n",
    "\n",
    "plt.xlabel(\"Epochs\"), plt.ylabel(\"Accuracy\")\n",
    "plt.title(\"Training and Validation Accuracy\")"
   ]
  },
  {
   "cell_type": "code",
   "execution_count": 65,
   "id": "f9568350",
   "metadata": {},
   "outputs": [],
   "source": [
    "fig.savefig('network_first_time.png', bbox_inches='tight', pad_inches=0.2, dpi=200)"
   ]
  },
  {
   "cell_type": "markdown",
   "id": "59203ae0",
   "metadata": {},
   "source": [
    "***Specify the ACCURACY you achieved across 3 ARCHITECTURAL MODIFICATIONS<br>\n",
    "(e.g. different numbers of layers, different hyperparameters, etc.)***"
   ]
  },
  {
   "cell_type": "markdown",
   "id": "8fa5d4c7",
   "metadata": {},
   "source": [
    "#### Adding 4 hidden layers with 'relu'"
   ]
  },
  {
   "cell_type": "code",
   "execution_count": 66,
   "id": "97119ea2",
   "metadata": {},
   "outputs": [],
   "source": [
    "# instantiate network model\n",
    "network = models.Sequential()\n",
    "\n",
    "# add layers to network\n",
    "network.add(layers.Dense(1000, activation='relu', input_shape=(4, )))\n",
    "# network.add(layers.Dropout(0.9))\n",
    "# network.add(layers.Dense(5, activation='relu'))\n",
    "# network.add(layers.Dense(5, activation='relu'))\n",
    "# network.add(layers.Dense(5, activation='relu'))\n",
    "# network.add(layers.Dense(5, activation='relu'))\n",
    "network.add(layers.Dropout(0.2))\n",
    "# network.add(layers.Dense(5, activation='relu'))\n",
    "# network.add(layers.Dense(5, activation='relu'))\n",
    "# network.add(layers.Dense(5, activation='relu'))\n",
    "# network.add(layers.Dense(5, activation='relu'))\n",
    "network.add(layers.Dense(1, activation='relu'))"
   ]
  },
  {
   "cell_type": "code",
   "execution_count": 67,
   "id": "d281a70a",
   "metadata": {},
   "outputs": [
    {
     "name": "stdout",
     "output_type": "stream",
     "text": [
      "(4, 1000)\n",
      "(1000,)\n",
      "(1000, 1)\n",
      "(1,)\n"
     ]
    }
   ],
   "source": [
    "for w in network.weights:\n",
    "    print(w.shape)"
   ]
  },
  {
   "cell_type": "code",
   "execution_count": 68,
   "id": "f228b6fa",
   "metadata": {},
   "outputs": [
    {
     "name": "stdout",
     "output_type": "stream",
     "text": [
      "Model: \"sequential_1\"\n",
      "_________________________________________________________________\n",
      " Layer (type)                Output Shape              Param #   \n",
      "=================================================================\n",
      " dense_3 (Dense)             (None, 1000)              5000      \n",
      "                                                                 \n",
      " dropout_2 (Dropout)         (None, 1000)              0         \n",
      "                                                                 \n",
      " dense_4 (Dense)             (None, 1)                 1001      \n",
      "                                                                 \n",
      "=================================================================\n",
      "Total params: 6,001\n",
      "Trainable params: 6,001\n",
      "Non-trainable params: 0\n",
      "_________________________________________________________________\n"
     ]
    }
   ],
   "source": [
    "network.compile(loss='categorical_crossentropy',\n",
    "              optimizer='adam',\n",
    "              metrics=['accuracy'])\n",
    "network.summary()"
   ]
  },
  {
   "cell_type": "code",
   "execution_count": 69,
   "id": "20ff3253",
   "metadata": {
    "scrolled": false
   },
   "outputs": [
    {
     "name": "stdout",
     "output_type": "stream",
     "text": [
      "Epoch 1/10\n",
      "45/45 [==============================] - 2s 12ms/step - loss: nan - accuracy: 0.8851 - val_loss: nan - val_accuracy: 0.8983\n",
      "Epoch 2/10\n",
      "45/45 [==============================] - 0s 5ms/step - loss: nan - accuracy: 0.8894 - val_loss: nan - val_accuracy: 0.8983\n",
      "Epoch 3/10\n",
      "45/45 [==============================] - 0s 5ms/step - loss: nan - accuracy: 0.8894 - val_loss: nan - val_accuracy: 0.8983\n",
      "Epoch 4/10\n",
      "45/45 [==============================] - 0s 5ms/step - loss: nan - accuracy: 0.8894 - val_loss: nan - val_accuracy: 0.8983\n",
      "Epoch 5/10\n",
      "45/45 [==============================] - 0s 4ms/step - loss: nan - accuracy: 0.8894 - val_loss: nan - val_accuracy: 0.8983\n",
      "Epoch 6/10\n",
      "45/45 [==============================] - 0s 6ms/step - loss: nan - accuracy: 0.8894 - val_loss: nan - val_accuracy: 0.8983\n",
      "Epoch 7/10\n",
      "45/45 [==============================] - 0s 6ms/step - loss: nan - accuracy: 0.8894 - val_loss: nan - val_accuracy: 0.8983\n",
      "Epoch 8/10\n",
      "45/45 [==============================] - 0s 5ms/step - loss: nan - accuracy: 0.8894 - val_loss: nan - val_accuracy: 0.8983\n",
      "Epoch 9/10\n",
      "45/45 [==============================] - 0s 5ms/step - loss: nan - accuracy: 0.8894 - val_loss: nan - val_accuracy: 0.8983\n",
      "Epoch 10/10\n",
      "45/45 [==============================] - 0s 6ms/step - loss: nan - accuracy: 0.8894 - val_loss: nan - val_accuracy: 0.8983\n"
     ]
    }
   ],
   "source": [
    "history = network.fit(x_train, y_train,\n",
    "                      batch_size=16,\n",
    "                      epochs=10,\n",
    "                      verbose=1,\n",
    "                      validation_data=(x_test, y_test))"
   ]
  },
  {
   "cell_type": "code",
   "execution_count": 70,
   "id": "89d0b5ca",
   "metadata": {},
   "outputs": [],
   "source": [
    "loss_values = history.history['loss']\n",
    "acc = history.history['accuracy']\n",
    "val_loss_values = history.history['val_loss']\n",
    "val_acc_values = history.history['val_accuracy']"
   ]
  },
  {
   "cell_type": "code",
   "execution_count": 71,
   "id": "8df95044",
   "metadata": {
    "scrolled": true
   },
   "outputs": [
    {
     "name": "stdout",
     "output_type": "stream",
     "text": [
      "Model: \"sequential_1\"\n",
      "_________________________________________________________________\n",
      " Layer (type)                Output Shape              Param #   \n",
      "=================================================================\n",
      " dense_3 (Dense)             (None, 1000)              5000      \n",
      "                                                                 \n",
      " dropout_2 (Dropout)         (None, 1000)              0         \n",
      "                                                                 \n",
      " dense_4 (Dense)             (None, 1)                 1001      \n",
      "                                                                 \n",
      "=================================================================\n",
      "Total params: 6,001\n",
      "Trainable params: 6,001\n",
      "Non-trainable params: 0\n",
      "_________________________________________________________________\n"
     ]
    }
   ],
   "source": [
    "network.summary()"
   ]
  },
  {
   "cell_type": "code",
   "execution_count": 72,
   "id": "e6ffb59f",
   "metadata": {},
   "outputs": [
    {
     "data": {
      "text/plain": [
       "Text(0.5, 1.0, 'Training and Validation Accuracy')"
      ]
     },
     "execution_count": 72,
     "metadata": {},
     "output_type": "execute_result"
    },
    {
     "data": {
      "text/plain": [
       "<Figure size 432x288 with 0 Axes>"
      ]
     },
     "metadata": {},
     "output_type": "display_data"
    },
    {
     "data": {
      "image/png": "[encoded data removed]",
      "text/plain": [
       "<Figure size 1000x800 with 1 Axes>"
      ]
     },
     "metadata": {},
     "output_type": "display_data"
    }
   ],
   "source": [
    "plt.clf()\n",
    "fig = plt.figure(figsize=(5, 4), dpi=200)\n",
    "\n",
    "sns.lineplot(x=epochs, y=acc, color='green', ls='dotted', label='Training Accuracy')\n",
    "sns.lineplot(x=epochs, y=val_acc_values, color='orange', ls='solid', label='Validation Accuracy')\n",
    "\n",
    "plt.xlabel(\"Epochs\"), plt.ylabel(\"Accuracy\")\n",
    "plt.title(\"Training and Validation Accuracy\")"
   ]
  },
  {
   "cell_type": "code",
   "execution_count": 73,
   "id": "b25887e5",
   "metadata": {},
   "outputs": [],
   "source": [
    "fig.savefig('network_remove_layers.png', bbox_inches='tight', pad_inches=0.2, dpi=200)"
   ]
  },
  {
   "cell_type": "code",
   "execution_count": 74,
   "id": "bc7fa886",
   "metadata": {},
   "outputs": [
    {
     "name": "stdout",
     "output_type": "stream",
     "text": [
      "sequential_1's Test Loss: nan\n",
      "sequential_1's Test Accuracy: 0.8983050584793091\n"
     ]
    }
   ],
   "source": [
    "score = network.evaluate(x_test, y_test, verbose=0)\n",
    "print(f\"{network.name}'s Test Loss: {score[0]}\\n{network.name}'s Test Accuracy: {score[1]}\")"
   ]
  },
  {
   "cell_type": "markdown",
   "id": "92f0e17e",
   "metadata": {},
   "source": [
    "***Changing the activation function of output layer to sigmoid,<br>\n",
    "using a binary crossentropy loss function because this is a binary classification***"
   ]
  },
  {
   "cell_type": "code",
   "execution_count": 75,
   "id": "22726af0",
   "metadata": {},
   "outputs": [],
   "source": [
    "# instantiate network model\n",
    "network = models.Sequential()\n",
    "\n",
    "# add layers to network\n",
    "network.add(layers.Dense(1000, activation='relu', input_shape=(4, )))\n",
    "network.add(layers.Dropout(0.9))\n",
    "network.add(layers.Dense(5, activation='relu'))\n",
    "network.add(layers.Dropout(0.2))\n",
    "network.add(layers.Dense(1, activation='sigmoid'))"
   ]
  },
  {
   "cell_type": "code",
   "execution_count": 76,
   "id": "9e9a2805",
   "metadata": {},
   "outputs": [
    {
     "name": "stdout",
     "output_type": "stream",
     "text": [
      "(4, 1000)\n",
      "(1000,)\n",
      "(1000, 5)\n",
      "(5,)\n",
      "(5, 1)\n",
      "(1,)\n"
     ]
    }
   ],
   "source": [
    "for w in network.weights:\n",
    "    print(w.shape)"
   ]
  },
  {
   "cell_type": "code",
   "execution_count": 77,
   "id": "da1c2a7a",
   "metadata": {},
   "outputs": [
    {
     "name": "stdout",
     "output_type": "stream",
     "text": [
      "Model: \"sequential_2\"\n",
      "_________________________________________________________________\n",
      " Layer (type)                Output Shape              Param #   \n",
      "=================================================================\n",
      " dense_5 (Dense)             (None, 1000)              5000      \n",
      "                                                                 \n",
      " dropout_3 (Dropout)         (None, 1000)              0         \n",
      "                                                                 \n",
      " dense_6 (Dense)             (None, 5)                 5005      \n",
      "                                                                 \n",
      " dropout_4 (Dropout)         (None, 5)                 0         \n",
      "                                                                 \n",
      " dense_7 (Dense)             (None, 1)                 6         \n",
      "                                                                 \n",
      "=================================================================\n",
      "Total params: 10,011\n",
      "Trainable params: 10,011\n",
      "Non-trainable params: 0\n",
      "_________________________________________________________________\n"
     ]
    }
   ],
   "source": [
    "network.compile(loss='binary_crossentropy',\n",
    "              optimizer='adam',\n",
    "              metrics=['accuracy'])\n",
    "network.summary()"
   ]
  },
  {
   "cell_type": "code",
   "execution_count": 78,
   "id": "b63e9856",
   "metadata": {
    "scrolled": false
   },
   "outputs": [
    {
     "name": "stdout",
     "output_type": "stream",
     "text": [
      "Epoch 1/10\n",
      "45/45 [==============================] - 1s 11ms/step - loss: 242.5301 - accuracy: 0.8411 - val_loss: 1.5161 - val_accuracy: 0.8983\n",
      "Epoch 2/10\n",
      "45/45 [==============================] - 0s 5ms/step - loss: 65.4102 - accuracy: 0.8667 - val_loss: 1.3006 - val_accuracy: 0.8983\n",
      "Epoch 3/10\n",
      "45/45 [==============================] - 0s 5ms/step - loss: 16.7170 - accuracy: 0.8766 - val_loss: 1.0414 - val_accuracy: 0.8983\n",
      "Epoch 4/10\n",
      "45/45 [==============================] - 0s 6ms/step - loss: 25.7509 - accuracy: 0.8837 - val_loss: 0.5651 - val_accuracy: 0.8983\n",
      "Epoch 5/10\n",
      "45/45 [==============================] - 0s 6ms/step - loss: 4.4239 - accuracy: 0.8837 - val_loss: 0.3664 - val_accuracy: 0.8983\n",
      "Epoch 6/10\n",
      "45/45 [==============================] - 0s 6ms/step - loss: 6.6481 - accuracy: 0.8908 - val_loss: 0.3528 - val_accuracy: 0.8983\n",
      "Epoch 7/10\n",
      "45/45 [==============================] - 0s 6ms/step - loss: 3.8265 - accuracy: 0.8851 - val_loss: 0.3430 - val_accuracy: 0.8983\n",
      "Epoch 8/10\n",
      "45/45 [==============================] - 0s 5ms/step - loss: 0.8959 - accuracy: 0.8865 - val_loss: 0.3367 - val_accuracy: 0.8983\n",
      "Epoch 9/10\n",
      "45/45 [==============================] - 0s 5ms/step - loss: 1.9849 - accuracy: 0.8894 - val_loss: 0.3315 - val_accuracy: 0.8983\n",
      "Epoch 10/10\n",
      "45/45 [==============================] - 0s 5ms/step - loss: 1.4433 - accuracy: 0.8922 - val_loss: 0.3265 - val_accuracy: 0.8983\n"
     ]
    }
   ],
   "source": [
    "history = network.fit(x_train, y_train,\n",
    "                      batch_size=16,\n",
    "                      epochs=10,\n",
    "                      verbose=1,\n",
    "                      validation_data=(x_test, y_test))"
   ]
  },
  {
   "cell_type": "code",
   "execution_count": 79,
   "id": "51355be2",
   "metadata": {},
   "outputs": [],
   "source": [
    "loss_values = history.history['loss']\n",
    "acc = history.history['accuracy']\n",
    "val_loss_values = history.history['val_loss']\n",
    "val_acc_values = history.history['val_accuracy']\n",
    "\n",
    "epochs = range(len(acc))"
   ]
  },
  {
   "cell_type": "code",
   "execution_count": 80,
   "id": "c610c51b",
   "metadata": {},
   "outputs": [
    {
     "data": {
      "text/plain": [
       "Text(0.5, 1.0, 'Training and Validation Loss')"
      ]
     },
     "execution_count": 80,
     "metadata": {},
     "output_type": "execute_result"
    },
    {
     "data": {
      "text/plain": [
       "<Figure size 432x288 with 0 Axes>"
      ]
     },
     "metadata": {},
     "output_type": "display_data"
    },
    {
     "data": {
      "image/png": "[encoded data removed]",
      "text/plain": [
       "<Figure size 1000x800 with 2 Axes>"
      ]
     },
     "metadata": {},
     "output_type": "display_data"
    }
   ],
   "source": [
    "plt.clf()\n",
    "fig = plt.figure(figsize=(5, 4), dpi=200)\n",
    "l, r = fig.add_axes([0, 0, 0.6, 1]), fig.add_axes([0.8, 0, 0.6, 1])\n",
    "\n",
    "sns.lineplot(x=epochs, y=acc, color='green', ls='dotted', \n",
    "             label='Training Accuracy', ax=l)\n",
    "sns.lineplot(x=epochs, y=val_acc_values, color='orange', ls='solid',\n",
    "             label='Validation Accuracy', ax=l)\n",
    "\n",
    "sns.lineplot(x=epochs, y=loss_values, color='green', ls='dotted', \n",
    "             label='Training Loss', ax=r)\n",
    "sns.lineplot(x=epochs, y=val_loss_values, color='orange', ls='solid',\n",
    "             label='Validation Loss', ax=r)\n",
    "\n",
    "\n",
    "l.set_xlabel(\"Epochs\"), l.set_ylabel(\"Accuracy\")\n",
    "l.set_title(\"Training and Validation Accuracy\")\n",
    "\n",
    "r.set_xlabel(\"Epochs\"), r.set_ylabel(\"Loss\")\n",
    "r.set_title(\"Training and Validation Loss\")"
   ]
  },
  {
   "cell_type": "code",
   "execution_count": 81,
   "id": "d4e5fa71",
   "metadata": {},
   "outputs": [],
   "source": [
    "fig.savefig('network_hyperparam_1.png', bbox_inches='tight', pad_inches=0.2, dpi=200)"
   ]
  },
  {
   "cell_type": "code",
   "execution_count": 82,
   "id": "e8a34cf1",
   "metadata": {},
   "outputs": [
    {
     "name": "stdout",
     "output_type": "stream",
     "text": [
      "sequential_2's Test Loss: 0.32650768756866455\n",
      "sequential_2's Test Accuracy: 0.8983050584793091\n"
     ]
    }
   ],
   "source": [
    "score = network.evaluate(x_test, y_test, verbose=0)\n",
    "print(f\"{network.name}'s Test Loss: {score[0]}\\n{network.name}'s Test Accuracy: {score[1]}\")"
   ]
  },
  {
   "cell_type": "markdown",
   "id": "ac6ff1f9",
   "metadata": {},
   "source": [
    "#### Change epochs to 3, loss function to binary crossentropy, output layer to relu"
   ]
  },
  {
   "cell_type": "code",
   "execution_count": 83,
   "id": "9c05b248",
   "metadata": {},
   "outputs": [],
   "source": [
    "# instantiate network model\n",
    "network = models.Sequential()\n",
    "\n",
    "# add layers to network\n",
    "network.add(layers.Dense(1000, activation='relu', input_shape=(4, )))\n",
    "network.add(layers.Dropout(0.9))\n",
    "network.add(layers.Dense(50, activation='relu'))\n",
    "network.add(layers.Dropout(0.2))\n",
    "network.add(layers.Dense(1, activation='sigmoid'))"
   ]
  },
  {
   "cell_type": "code",
   "execution_count": 84,
   "id": "cd3b4950",
   "metadata": {},
   "outputs": [
    {
     "name": "stdout",
     "output_type": "stream",
     "text": [
      "Model: \"sequential_3\"\n",
      "_________________________________________________________________\n",
      " Layer (type)                Output Shape              Param #   \n",
      "=================================================================\n",
      " dense_8 (Dense)             (None, 1000)              5000      \n",
      "                                                                 \n",
      " dropout_5 (Dropout)         (None, 1000)              0         \n",
      "                                                                 \n",
      " dense_9 (Dense)             (None, 50)                50050     \n",
      "                                                                 \n",
      " dropout_6 (Dropout)         (None, 50)                0         \n",
      "                                                                 \n",
      " dense_10 (Dense)            (None, 1)                 51        \n",
      "                                                                 \n",
      "=================================================================\n",
      "Total params: 55,101\n",
      "Trainable params: 55,101\n",
      "Non-trainable params: 0\n",
      "_________________________________________________________________\n"
     ]
    }
   ],
   "source": [
    "network.compile(loss='binary_crossentropy',\n",
    "              optimizer='adam',\n",
    "              metrics=['accuracy'])\n",
    "network.summary()"
   ]
  },
  {
   "cell_type": "code",
   "execution_count": 85,
   "id": "cd3d2254",
   "metadata": {},
   "outputs": [],
   "source": [
    "x_train, x_other, y_train, y_other = train_test_split(X, y, test_size=0.2, random_state=42)\n",
    "x_val, x_test, y_val, y_test = train_test_split(x_other, y_other, test_size=0.5, random_state=42)"
   ]
  },
  {
   "cell_type": "code",
   "execution_count": 86,
   "id": "f5fdd3e4",
   "metadata": {},
   "outputs": [
    {
     "data": {
      "text/plain": [
       "((705, 4), (88, 4), (89, 4))"
      ]
     },
     "execution_count": 86,
     "metadata": {},
     "output_type": "execute_result"
    }
   ],
   "source": [
    "x_train.shape, x_val.shape, x_test.shape"
   ]
  },
  {
   "cell_type": "code",
   "execution_count": 87,
   "id": "ab0dba1f",
   "metadata": {
    "scrolled": true
   },
   "outputs": [
    {
     "data": {
      "text/plain": [
       "((705,), (88,), (89,))"
      ]
     },
     "execution_count": 87,
     "metadata": {},
     "output_type": "execute_result"
    }
   ],
   "source": [
    "y_train.shape, y_val.shape, y_test.shape"
   ]
  },
  {
   "cell_type": "code",
   "execution_count": 88,
   "id": "d806eee0",
   "metadata": {},
   "outputs": [],
   "source": [
    "from sklearn.preprocessing import StandardScaler"
   ]
  },
  {
   "cell_type": "code",
   "execution_count": 89,
   "id": "b0d06641",
   "metadata": {},
   "outputs": [],
   "source": [
    "scaler = StandardScaler().fit(x_train)\n",
    "x_train = scaler.transform(x_train)\n",
    "x_val = scaler.transform(x_val)\n",
    "x_test = scaler.transform(x_test)"
   ]
  },
  {
   "cell_type": "code",
   "execution_count": 90,
   "id": "9ed7ab79",
   "metadata": {},
   "outputs": [
    {
     "name": "stdout",
     "output_type": "stream",
     "text": [
      "Epoch 1/3\n",
      "45/45 [==============================] - 1s 10ms/step - loss: 0.4442 - accuracy: 0.8993 - val_loss: 0.1570 - val_accuracy: 0.9545\n",
      "Epoch 2/3\n",
      "45/45 [==============================] - 0s 4ms/step - loss: 0.1139 - accuracy: 0.9702 - val_loss: 0.1115 - val_accuracy: 0.9659\n",
      "Epoch 3/3\n",
      "45/45 [==============================] - 0s 5ms/step - loss: 0.0725 - accuracy: 0.9787 - val_loss: 0.1061 - val_accuracy: 0.9773\n"
     ]
    }
   ],
   "source": [
    "history = network.fit(x_train, y_train,\n",
    "                      batch_size=16,\n",
    "                      epochs=3,\n",
    "                      verbose=1,\n",
    "                      validation_data=(x_val, y_val))"
   ]
  },
  {
   "cell_type": "code",
   "execution_count": 91,
   "id": "cd64154e",
   "metadata": {},
   "outputs": [],
   "source": [
    "loss_values = history.history['loss']\n",
    "acc = history.history['accuracy']\n",
    "val_loss_values = history.history['val_loss']\n",
    "val_acc_values = history.history['val_accuracy']\n",
    "\n",
    "epochs = range(len(acc))"
   ]
  },
  {
   "cell_type": "code",
   "execution_count": 92,
   "id": "39436da8",
   "metadata": {},
   "outputs": [
    {
     "data": {
      "text/plain": [
       "Text(0.5, 1.0, 'Training and Validation Loss')"
      ]
     },
     "execution_count": 92,
     "metadata": {},
     "output_type": "execute_result"
    },
    {
     "data": {
      "text/plain": [
       "<Figure size 432x288 with 0 Axes>"
      ]
     },
     "metadata": {},
     "output_type": "display_data"
    },
    {
     "data": {
      "image/png": "[encoded data removed]",
      "text/plain": [
       "<Figure size 1000x800 with 2 Axes>"
      ]
     },
     "metadata": {},
     "output_type": "display_data"
    }
   ],
   "source": [
    "plt.clf()\n",
    "sns.set_theme(style='darkgrid')\n",
    "fig = plt.figure(figsize=(5, 4), dpi=200)\n",
    "l, r = fig.add_axes([0, 0, 0.6, 1]), fig.add_axes([0.8, 0, 0.6, 1])\n",
    "\n",
    "sns.lineplot(x=epochs, y=acc, color='green', ls='dotted', \n",
    "             label='Training Accuracy', ax=l)\n",
    "sns.lineplot(x=epochs, y=val_acc_values, color='orange', ls='solid',\n",
    "             label='Validation Accuracy', ax=l)\n",
    "\n",
    "sns.lineplot(x=epochs, y=loss_values, color='green', ls='dotted', \n",
    "             label='Training Loss', ax=r)\n",
    "sns.lineplot(x=epochs, y=val_loss_values, color='orange', ls='solid',\n",
    "             label='Validation Loss', ax=r)\n",
    "\n",
    "\n",
    "l.set_xlabel(\"Epochs\"), l.set_ylabel(\"Accuracy\")\n",
    "l.set_title(\"Training and Validation Accuracy\")\n",
    "\n",
    "r.set_xlabel(\"Epochs\"), r.set_ylabel(\"Loss\")\n",
    "r.set_title(\"Training and Validation Loss\")"
   ]
  },
  {
   "cell_type": "code",
   "execution_count": 93,
   "id": "c133e97a",
   "metadata": {},
   "outputs": [],
   "source": [
    "fig.savefig('network_hyperparam_final.png', bbox_inches='tight', pad_inches=0.2, dpi=200)"
   ]
  },
  {
   "cell_type": "code",
   "execution_count": 94,
   "id": "c260d983",
   "metadata": {},
   "outputs": [
    {
     "name": "stdout",
     "output_type": "stream",
     "text": [
      "sequential_3's Test Loss: 0.035741619765758514\n",
      "sequential_3's Test Accuracy: 1.0\n"
     ]
    }
   ],
   "source": [
    "score = network.evaluate(x_test, y_test, verbose=0)\n",
    "print(f\"{network.name}'s Test Loss: {score[0]}\\n{network.name}'s Test Accuracy: {score[1]}\")"
   ]
  },
  {
   "cell_type": "markdown",
   "id": "5b005c32",
   "metadata": {},
   "source": [
    "#### Effect of data size on accuracy"
   ]
  },
  {
   "cell_type": "markdown",
   "id": "63c460fa",
   "metadata": {},
   "source": [
    "Training on 50% of data set"
   ]
  },
  {
   "cell_type": "code",
   "execution_count": 95,
   "id": "483106da",
   "metadata": {},
   "outputs": [],
   "source": [
    "x_train, x_other, y_train, y_other = train_test_split(X, y, test_size=0.6, random_state=42)\n",
    "x_val, x_test, y_val, y_test = train_test_split(x_other, y_other, test_size=0.833, random_state=42)"
   ]
  },
  {
   "cell_type": "code",
   "execution_count": 96,
   "id": "51d10e50",
   "metadata": {},
   "outputs": [
    {
     "name": "stdout",
     "output_type": "stream",
     "text": [
      "(352, 4)\n",
      "(88, 4)\n",
      "(442, 4)\n"
     ]
    }
   ],
   "source": [
    "print(x_train.shape)\n",
    "print(x_val.shape)\n",
    "print(x_test.shape)"
   ]
  },
  {
   "cell_type": "code",
   "execution_count": 97,
   "id": "90fc2f2c",
   "metadata": {},
   "outputs": [],
   "source": [
    "# instantiate network model\n",
    "network = models.Sequential()\n",
    "\n",
    "# add layers to network\n",
    "network.add(layers.Dense(1000, activation='relu', input_shape=(4, )))\n",
    "network.add(layers.Dropout(0.9))\n",
    "network.add(layers.Dense(5, activation='relu'))\n",
    "network.add(layers.Dropout(0.2))\n",
    "network.add(layers.Dense(1, activation='relu'))"
   ]
  },
  {
   "cell_type": "code",
   "execution_count": 98,
   "id": "3d415045",
   "metadata": {},
   "outputs": [
    {
     "name": "stdout",
     "output_type": "stream",
     "text": [
      "Model: \"sequential_4\"\n",
      "_________________________________________________________________\n",
      " Layer (type)                Output Shape              Param #   \n",
      "=================================================================\n",
      " dense_11 (Dense)            (None, 1000)              5000      \n",
      "                                                                 \n",
      " dropout_7 (Dropout)         (None, 1000)              0         \n",
      "                                                                 \n",
      " dense_12 (Dense)            (None, 5)                 5005      \n",
      "                                                                 \n",
      " dropout_8 (Dropout)         (None, 5)                 0         \n",
      "                                                                 \n",
      " dense_13 (Dense)            (None, 1)                 6         \n",
      "                                                                 \n",
      "=================================================================\n",
      "Total params: 10,011\n",
      "Trainable params: 10,011\n",
      "Non-trainable params: 0\n",
      "_________________________________________________________________\n"
     ]
    }
   ],
   "source": [
    "network.compile(loss='categorical_crossentropy',\n",
    "              optimizer='adam',\n",
    "              metrics=['accuracy'])\n",
    "network.summary()"
   ]
  },
  {
   "cell_type": "code",
   "execution_count": 99,
   "id": "ec669dfd",
   "metadata": {},
   "outputs": [
    {
     "name": "stdout",
     "output_type": "stream",
     "text": [
      "Epoch 1/10\n",
      "22/22 [==============================] - 1s 17ms/step - loss: nan - accuracy: 0.8835 - val_loss: nan - val_accuracy: 0.8864\n",
      "Epoch 2/10\n",
      "22/22 [==============================] - 0s 6ms/step - loss: nan - accuracy: 0.8920 - val_loss: nan - val_accuracy: 0.8864\n",
      "Epoch 3/10\n",
      "22/22 [==============================] - 0s 5ms/step - loss: nan - accuracy: 0.8920 - val_loss: nan - val_accuracy: 0.8864\n",
      "Epoch 4/10\n",
      "22/22 [==============================] - 0s 6ms/step - loss: nan - accuracy: 0.8920 - val_loss: nan - val_accuracy: 0.8864\n",
      "Epoch 5/10\n",
      "22/22 [==============================] - 0s 5ms/step - loss: nan - accuracy: 0.8920 - val_loss: nan - val_accuracy: 0.8864\n",
      "Epoch 6/10\n",
      "22/22 [==============================] - 0s 6ms/step - loss: nan - accuracy: 0.8920 - val_loss: nan - val_accuracy: 0.8864\n",
      "Epoch 7/10\n",
      "22/22 [==============================] - 0s 6ms/step - loss: nan - accuracy: 0.8920 - val_loss: nan - val_accuracy: 0.8864\n",
      "Epoch 8/10\n",
      "22/22 [==============================] - 0s 5ms/step - loss: nan - accuracy: 0.8920 - val_loss: nan - val_accuracy: 0.8864\n",
      "Epoch 9/10\n",
      "22/22 [==============================] - 0s 7ms/step - loss: nan - accuracy: 0.8920 - val_loss: nan - val_accuracy: 0.8864\n",
      "Epoch 10/10\n",
      "22/22 [==============================] - 0s 5ms/step - loss: nan - accuracy: 0.8920 - val_loss: nan - val_accuracy: 0.8864\n"
     ]
    }
   ],
   "source": [
    "history = network.fit(x_train, y_train,\n",
    "                      batch_size=16,\n",
    "                      epochs=10,\n",
    "                      verbose=1,\n",
    "                      validation_data=(x_val, y_val))"
   ]
  },
  {
   "cell_type": "code",
   "execution_count": 100,
   "id": "07b0965d",
   "metadata": {
    "scrolled": true
   },
   "outputs": [
    {
     "name": "stdout",
     "output_type": "stream",
     "text": [
      "sequential_4's Test Loss: nan\n",
      "sequential_4's Test Accuracy: 0.8914027214050293\n"
     ]
    }
   ],
   "source": [
    "score = network.evaluate(x_test, y_test, verbose=0)\n",
    "print(f\"{network.name}'s Test Loss: {score[0]}\\n{network.name}'s Test Accuracy: {score[1]}\")"
   ]
  },
  {
   "cell_type": "code",
   "execution_count": null,
   "id": "85057022",
   "metadata": {},
   "outputs": [],
   "source": []
  },
  {
   "cell_type": "markdown",
   "id": "30d029b7",
   "metadata": {},
   "source": [
    "Training on 30% of data set"
   ]
  },
  {
   "cell_type": "code",
   "execution_count": 101,
   "id": "3a367798",
   "metadata": {},
   "outputs": [],
   "source": [
    "x_train, x_other, y_train, y_other = train_test_split(X, y, test_size=0.8, random_state=42)\n",
    "x_val, x_test, y_val, y_test = train_test_split(x_other, y_other, test_size=0.875, random_state=42)"
   ]
  },
  {
   "cell_type": "code",
   "execution_count": 102,
   "id": "bc570f71",
   "metadata": {},
   "outputs": [
    {
     "name": "stdout",
     "output_type": "stream",
     "text": [
      "(176, 4)\n",
      "(88, 4)\n",
      "(618, 4)\n"
     ]
    }
   ],
   "source": [
    "print(x_train.shape)\n",
    "print(x_val.shape)\n",
    "print(x_test.shape)"
   ]
  },
  {
   "cell_type": "code",
   "execution_count": 103,
   "id": "adc374d4",
   "metadata": {},
   "outputs": [],
   "source": [
    "# instantiate network model\n",
    "network = models.Sequential()\n",
    "\n",
    "# add layers to network\n",
    "network.add(layers.Dense(1000, activation='relu', input_shape=(4, )))\n",
    "network.add(layers.Dropout(0.9))\n",
    "network.add(layers.Dense(5, activation='relu'))\n",
    "network.add(layers.Dropout(0.2))\n",
    "network.add(layers.Dense(1, activation='relu'))"
   ]
  },
  {
   "cell_type": "code",
   "execution_count": 104,
   "id": "7ef8c67c",
   "metadata": {},
   "outputs": [
    {
     "name": "stdout",
     "output_type": "stream",
     "text": [
      "Model: \"sequential_5\"\n",
      "_________________________________________________________________\n",
      " Layer (type)                Output Shape              Param #   \n",
      "=================================================================\n",
      " dense_14 (Dense)            (None, 1000)              5000      \n",
      "                                                                 \n",
      " dropout_9 (Dropout)         (None, 1000)              0         \n",
      "                                                                 \n",
      " dense_15 (Dense)            (None, 5)                 5005      \n",
      "                                                                 \n",
      " dropout_10 (Dropout)        (None, 5)                 0         \n",
      "                                                                 \n",
      " dense_16 (Dense)            (None, 1)                 6         \n",
      "                                                                 \n",
      "=================================================================\n",
      "Total params: 10,011\n",
      "Trainable params: 10,011\n",
      "Non-trainable params: 0\n",
      "_________________________________________________________________\n"
     ]
    }
   ],
   "source": [
    "network.compile(loss='categorical_crossentropy',\n",
    "              optimizer='adam',\n",
    "              metrics=['accuracy'])\n",
    "network.summary()"
   ]
  },
  {
   "cell_type": "code",
   "execution_count": 105,
   "id": "696c4b0b",
   "metadata": {},
   "outputs": [
    {
     "name": "stdout",
     "output_type": "stream",
     "text": [
      "Epoch 1/10\n",
      "11/11 [==============================] - 1s 30ms/step - loss: nan - accuracy: 0.8864 - val_loss: nan - val_accuracy: 0.8636\n",
      "Epoch 2/10\n",
      "11/11 [==============================] - 0s 10ms/step - loss: nan - accuracy: 0.8864 - val_loss: nan - val_accuracy: 0.8636\n",
      "Epoch 3/10\n",
      "11/11 [==============================] - 0s 8ms/step - loss: nan - accuracy: 0.8864 - val_loss: nan - val_accuracy: 0.8636\n",
      "Epoch 4/10\n",
      "11/11 [==============================] - 0s 11ms/step - loss: nan - accuracy: 0.8864 - val_loss: nan - val_accuracy: 0.8636\n",
      "Epoch 5/10\n",
      "11/11 [==============================] - 0s 7ms/step - loss: nan - accuracy: 0.8864 - val_loss: nan - val_accuracy: 0.8636\n",
      "Epoch 6/10\n",
      "11/11 [==============================] - 0s 10ms/step - loss: nan - accuracy: 0.8864 - val_loss: nan - val_accuracy: 0.8636\n",
      "Epoch 7/10\n",
      "11/11 [==============================] - 0s 10ms/step - loss: nan - accuracy: 0.8864 - val_loss: nan - val_accuracy: 0.8636\n",
      "Epoch 8/10\n",
      "11/11 [==============================] - 0s 7ms/step - loss: nan - accuracy: 0.8864 - val_loss: nan - val_accuracy: 0.8636\n",
      "Epoch 9/10\n",
      "11/11 [==============================] - 0s 10ms/step - loss: nan - accuracy: 0.8864 - val_loss: nan - val_accuracy: 0.8636\n",
      "Epoch 10/10\n",
      "11/11 [==============================] - 0s 7ms/step - loss: nan - accuracy: 0.8864 - val_loss: nan - val_accuracy: 0.8636\n"
     ]
    }
   ],
   "source": [
    "history = network.fit(x_train, y_train,\n",
    "                      batch_size=16,\n",
    "                      epochs=10,\n",
    "                      verbose=1,\n",
    "                      validation_data=(x_val, y_val))"
   ]
  },
  {
   "cell_type": "code",
   "execution_count": 106,
   "id": "d4e42cf4",
   "metadata": {
    "scrolled": true
   },
   "outputs": [
    {
     "name": "stdout",
     "output_type": "stream",
     "text": [
      "sequential_5's Test Loss: nan\n",
      "sequential_5's Test Accuracy: 0.8964401483535767\n"
     ]
    }
   ],
   "source": [
    "score = network.evaluate(x_test, y_test, verbose=0)\n",
    "print(f\"{network.name}'s Test Loss: {score[0]}\\n{network.name}'s Test Accuracy: {score[1]}\")"
   ]
  },
  {
   "cell_type": "markdown",
   "id": "c055e829",
   "metadata": {},
   "source": [
    "___"
   ]
  },
  {
   "cell_type": "markdown",
   "id": "c475c3c6",
   "metadata": {},
   "source": [
    "## Multi-object recogniser: "
   ]
  },
  {
   "cell_type": "code",
   "execution_count": 1,
   "id": "1915b802",
   "metadata": {},
   "outputs": [],
   "source": [
    "from seaborn.utils import plt, np, os\n",
    "import seaborn as sns\n",
    "import json\n",
    "import tensorflow as tf\n",
    "import PIL\n",
    "import pathlib\n",
    "from tensorflow import keras\n",
    "from tensorflow.keras import layers\n",
    "from keras import Sequential\n",
    "from tensorflow.keras import optimizers, metrics, losses\n",
    "import timeit"
   ]
  },
  {
   "cell_type": "code",
   "execution_count": 2,
   "id": "d4ec2fbe",
   "metadata": {},
   "outputs": [],
   "source": [
    "data_dir = \"W:\\\\MSc-AIDS-UoH\\\\UoH-Understanding-AI\\\\Wk5\\\\animal_photos\"\n",
    "batch_size = 32\n",
    "img_height, img_width = 180, 180"
   ]
  },
  {
   "cell_type": "code",
   "execution_count": 3,
   "id": "8c2cd066",
   "metadata": {
    "scrolled": true
   },
   "outputs": [
    {
     "name": "stdout",
     "output_type": "stream",
     "text": [
      "Found 2423 files belonging to 3 classes.\n",
      "Using 1939 files for training.\n"
     ]
    }
   ],
   "source": [
    "train_ds = keras.preprocessing.image_dataset_from_directory(data_dir,\n",
    "                                                             batch_size=batch_size,\n",
    "                                                             validation_split=0.2,\n",
    "                                                             image_size=(img_height, img_width),\n",
    "                                                             subset='training',\n",
    "                                                             seed=123)"
   ]
  },
  {
   "cell_type": "code",
   "execution_count": 4,
   "id": "a12dd2df",
   "metadata": {},
   "outputs": [
    {
     "name": "stdout",
     "output_type": "stream",
     "text": [
      "Found 2423 files belonging to 3 classes.\n",
      "Using 484 files for validation.\n"
     ]
    }
   ],
   "source": [
    "val_ds = keras.preprocessing.image_dataset_from_directory(data_dir,\n",
    "                                                             batch_size=batch_size,\n",
    "                                                             validation_split=0.2,\n",
    "                                                             image_size=(img_height, img_width),\n",
    "                                                            subset='validation',\n",
    "                                                             seed=123)"
   ]
  },
  {
   "cell_type": "code",
   "execution_count": 5,
   "id": "5d979f92",
   "metadata": {
    "scrolled": true
   },
   "outputs": [
    {
     "name": "stdout",
     "output_type": "stream",
     "text": [
      "['bear', 'horse', 'zebra']\n"
     ]
    }
   ],
   "source": [
    "cls_names = train_ds.class_names\n",
    "print(cls_names)"
   ]
  },
  {
   "cell_type": "code",
   "execution_count": 6,
   "id": "c6ff9a46",
   "metadata": {},
   "outputs": [
    {
     "name": "stdout",
     "output_type": "stream",
     "text": [
      "-1\n"
     ]
    }
   ],
   "source": [
    "auto_tune = tf.data.AUTOTUNE\n",
    "print(auto_tune)"
   ]
  },
  {
   "cell_type": "code",
   "execution_count": 7,
   "id": "957d9ebf",
   "metadata": {
    "scrolled": false
   },
   "outputs": [
    {
     "data": {
      "text/plain": [
       "<PrefetchDataset shapes: ((None, 180, 180, 3), (None,)), types: (tf.float32, tf.int32)>"
      ]
     },
     "execution_count": 7,
     "metadata": {},
     "output_type": "execute_result"
    }
   ],
   "source": [
    "train_ds = train_ds.cache().shuffle(1000).prefetch(buffer_size=auto_tune)\n",
    "train_ds"
   ]
  },
  {
   "cell_type": "code",
   "execution_count": 8,
   "id": "992fad48",
   "metadata": {},
   "outputs": [
    {
     "data": {
      "text/plain": [
       "<PrefetchDataset shapes: ((None, 180, 180, 3), (None,)), types: (tf.float32, tf.int32)>"
      ]
     },
     "execution_count": 8,
     "metadata": {},
     "output_type": "execute_result"
    }
   ],
   "source": [
    "val_ds = val_ds.cache().prefetch(buffer_size=auto_tune)\n",
    "val_ds"
   ]
  },
  {
   "cell_type": "code",
   "execution_count": 9,
   "id": "c56e2ac5",
   "metadata": {},
   "outputs": [
    {
     "name": "stdout",
     "output_type": "stream",
     "text": [
      "<keras.layers.preprocessing.image_preprocessing.Rescaling object at 0x000001B24C538760>\n"
     ]
    }
   ],
   "source": [
    "normalization_layer = layers.experimental.preprocessing.Rescaling(1./255)\n",
    "print(normalization_layer)"
   ]
  },
  {
   "cell_type": "code",
   "execution_count": 10,
   "id": "c9b0f2ae",
   "metadata": {},
   "outputs": [
    {
     "name": "stdout",
     "output_type": "stream",
     "text": [
      "<MapDataset shapes: ((None, 180, 180, 3), (None,)), types: (tf.float32, tf.int32)>\n"
     ]
    }
   ],
   "source": [
    "normalization_data = train_ds.map(lambda x, y: (normalization_layer(x), y))\n",
    "print(normalization_data)"
   ]
  },
  {
   "cell_type": "code",
   "execution_count": 11,
   "id": "01413ccf",
   "metadata": {},
   "outputs": [],
   "source": [
    "image_batch, labels_batch = next(iter(normalization_data))"
   ]
  },
  {
   "cell_type": "code",
   "execution_count": 12,
   "id": "b31ec8fa",
   "metadata": {},
   "outputs": [],
   "source": [
    "first_image = image_batch[0]"
   ]
  },
  {
   "cell_type": "code",
   "execution_count": 15,
   "id": "6d996dfb",
   "metadata": {
    "scrolled": true
   },
   "outputs": [
    {
     "name": "stdout",
     "output_type": "stream",
     "text": [
      "0.0 1.0\n"
     ]
    }
   ],
   "source": [
    "print(np.min(first_image), np.max(first_image))"
   ]
  },
  {
   "cell_type": "code",
   "execution_count": 16,
   "id": "d849e076",
   "metadata": {},
   "outputs": [],
   "source": [
    "num_classes = 3\n",
    "\n",
    "model = Sequential()\n",
    "\n",
    "model.add(layers.experimental.preprocessing.Rescaling(1./255, input_shape=(img_height, img_width, 3)))\n",
    "model.add(layers.Conv2D(16, 3, padding='same', activation='relu'))\n",
    "model.add(layers.MaxPooling2D())\n",
    "model.add(layers.Conv2D(32, 3, padding='same', activation='relu'))\n",
    "model.add(layers.MaxPooling2D())\n",
    "model.add(layers.Conv2D(64, 3, padding='same', activation='relu'))\n",
    "model.add(layers.MaxPooling2D())\n",
    "model.add(layers.Flatten())\n",
    "model.add(layers.Dense(128, activation='relu'))\n",
    "model.add(layers.Dense(num_classes))"
   ]
  },
  {
   "cell_type": "code",
   "execution_count": 17,
   "id": "3ca0c5d8",
   "metadata": {},
   "outputs": [
    {
     "name": "stdout",
     "output_type": "stream",
     "text": [
      "Model: \"sequential\"\n",
      "_________________________________________________________________\n",
      " Layer (type)                Output Shape              Param #   \n",
      "=================================================================\n",
      " rescaling_1 (Rescaling)     (None, 180, 180, 3)       0         \n",
      "                                                                 \n",
      " conv2d (Conv2D)             (None, 180, 180, 16)      448       \n",
      "                                                                 \n",
      " max_pooling2d (MaxPooling2D  (None, 90, 90, 16)       0         \n",
      " )                                                               \n",
      "                                                                 \n",
      " conv2d_1 (Conv2D)           (None, 90, 90, 32)        4640      \n",
      "                                                                 \n",
      " max_pooling2d_1 (MaxPooling  (None, 45, 45, 32)       0         \n",
      " 2D)                                                             \n",
      "                                                                 \n",
      " conv2d_2 (Conv2D)           (None, 45, 45, 64)        18496     \n",
      "                                                                 \n",
      " max_pooling2d_2 (MaxPooling  (None, 22, 22, 64)       0         \n",
      " 2D)                                                             \n",
      "                                                                 \n",
      " flatten (Flatten)           (None, 30976)             0         \n",
      "                                                                 \n",
      " dense (Dense)               (None, 128)               3965056   \n",
      "                                                                 \n",
      " dense_1 (Dense)             (None, 3)                 387       \n",
      "                                                                 \n",
      "=================================================================\n",
      "Total params: 3,989,027\n",
      "Trainable params: 3,989,027\n",
      "Non-trainable params: 0\n",
      "_________________________________________________________________\n"
     ]
    }
   ],
   "source": [
    "model.compile(optimizer='adam',\n",
    "             loss=tf.keras.losses.SparseCategoricalCrossentropy(from_logits=True),\n",
    "             metrics=['accuracy'])\n",
    "\n",
    "model.summary()"
   ]
  },
  {
   "cell_type": "code",
   "execution_count": 18,
   "id": "285fdf7d",
   "metadata": {},
   "outputs": [
    {
     "name": "stdout",
     "output_type": "stream",
     "text": [
      "Epoch 1/10\n",
      "61/61 [==============================] - 59s 940ms/step - loss: 1.2326 - accuracy: 0.4312 - val_loss: 0.9215 - val_accuracy: 0.5496\n",
      "Epoch 2/10\n",
      "61/61 [==============================] - 57s 921ms/step - loss: 0.8375 - accuracy: 0.6276 - val_loss: 0.7833 - val_accuracy: 0.6302\n",
      "Epoch 3/10\n",
      "61/61 [==============================] - 46s 761ms/step - loss: 0.7093 - accuracy: 0.7040 - val_loss: 0.7643 - val_accuracy: 0.6756\n",
      "Epoch 4/10\n",
      "61/61 [==============================] - 41s 674ms/step - loss: 0.6174 - accuracy: 0.7463 - val_loss: 0.8085 - val_accuracy: 0.6384\n",
      "Epoch 5/10\n",
      "61/61 [==============================] - 43s 711ms/step - loss: 0.4867 - accuracy: 0.8061 - val_loss: 0.7714 - val_accuracy: 0.6550\n",
      "Epoch 6/10\n",
      "61/61 [==============================] - 53s 866ms/step - loss: 0.3524 - accuracy: 0.8649 - val_loss: 1.1716 - val_accuracy: 0.6550\n",
      "Epoch 7/10\n",
      "61/61 [==============================] - 47s 748ms/step - loss: 0.2720 - accuracy: 0.8974 - val_loss: 1.0844 - val_accuracy: 0.6550\n",
      "Epoch 8/10\n",
      "61/61 [==============================] - 57s 939ms/step - loss: 0.1594 - accuracy: 0.9495 - val_loss: 1.1302 - val_accuracy: 0.6446\n",
      "Epoch 9/10\n",
      "61/61 [==============================] - 50s 817ms/step - loss: 0.1343 - accuracy: 0.9572 - val_loss: 1.3574 - val_accuracy: 0.6591\n",
      "Epoch 10/10\n",
      "61/61 [==============================] - 88s 1s/step - loss: 0.0874 - accuracy: 0.9768 - val_loss: 1.4685 - val_accuracy: 0.6632\n"
     ]
    }
   ],
   "source": [
    "epochs = 10\n",
    "history = model.fit(train_ds, validation_data=val_ds, epochs=epochs)"
   ]
  },
  {
   "cell_type": "code",
   "execution_count": 19,
   "id": "9e8a2a1a",
   "metadata": {},
   "outputs": [
    {
     "name": "stdout",
     "output_type": "stream",
     "text": [
      "[0.43115007877349854, 0.6276431083679199, 0.7039711475372314, 0.746260941028595, 0.8060855865478516, 0.8648788332939148, 0.8973698019981384, 0.9494584798812866, 0.957194447517395, 0.9767921566963196]\n",
      "[0.5495867729187012, 0.6301652789115906, 0.6756198406219482, 0.6384297609329224, 0.6549586653709412, 0.6549586653709412, 0.6549586653709412, 0.64462810754776, 0.6590909361839294, 0.663223147392273]\n"
     ]
    }
   ],
   "source": [
    "acc = history.history['accuracy']\n",
    "print(acc)\n",
    "val_acc = history.history['val_accuracy']\n",
    "print(val_acc)"
   ]
  },
  {
   "cell_type": "code",
   "execution_count": 20,
   "id": "50ae9807",
   "metadata": {},
   "outputs": [
    {
     "name": "stdout",
     "output_type": "stream",
     "text": [
      "[1.232559323310852, 0.8375439047813416, 0.709304928779602, 0.6174072027206421, 0.48674067854881287, 0.3523598909378052, 0.2720084488391876, 0.1593875139951706, 0.13433198630809784, 0.0873742550611496]\n",
      "[0.9214834570884705, 0.7832577228546143, 0.7642738819122314, 0.8084898591041565, 0.7714276909828186, 1.1715588569641113, 1.084357738494873, 1.1301697492599487, 1.3573529720306396, 1.4685462713241577]\n"
     ]
    }
   ],
   "source": [
    "loss = history.history['loss']\n",
    "print(loss)\n",
    "val_loss = history.history['val_loss']\n",
    "print(val_loss)"
   ]
  },
  {
   "cell_type": "code",
   "execution_count": 21,
   "id": "506e2a9f",
   "metadata": {},
   "outputs": [],
   "source": [
    "epochs_range = range(1, epochs+1)"
   ]
  },
  {
   "cell_type": "code",
   "execution_count": 22,
   "id": "ea5b89b5",
   "metadata": {},
   "outputs": [
    {
     "data": {
      "image/png": "[encoded data removed]",
      "text/plain": [
       "<Figure size 576x576 with 2 Axes>"
      ]
     },
     "metadata": {
      "needs_background": "light"
     },
     "output_type": "display_data"
    }
   ],
   "source": [
    "plt.figure(figsize=(8, 8))\n",
    "plt.subplot(1, 2, 1)\n",
    "plt.plot(epochs_range, acc, label='Training Accuracy')\n",
    "plt.plot(epochs_range, val_acc, label='Validation Accuracy')\n",
    "plt.legend(loc='lower right')\n",
    "plt.title(\"Training and Validation Accuracy\")\n",
    "\n",
    "plt.subplot(1, 2, 2)\n",
    "plt.plot(epochs_range, loss, label='Training Loss')\n",
    "plt.plot(epochs_range, val_loss, label='Validation Loss')\n",
    "plt.legend(loc='upper right')\n",
    "plt.title('Training and Validation Loss')\n",
    "plt.show()"
   ]
  },
  {
   "cell_type": "code",
   "execution_count": 23,
   "id": "63f5a840",
   "metadata": {},
   "outputs": [
    {
     "name": "stdout",
     "output_type": "stream",
     "text": [
      "16/16 [==============================] - 4s 222ms/step - loss: 1.4685 - accuracy: 0.6632\n"
     ]
    },
    {
     "data": {
      "text/plain": [
       "[1.4685462713241577, 0.663223147392273]"
      ]
     },
     "execution_count": 23,
     "metadata": {},
     "output_type": "execute_result"
    }
   ],
   "source": [
    "model.evaluate(val_ds)"
   ]
  },
  {
   "cell_type": "markdown",
   "id": "b611096c",
   "metadata": {},
   "source": [
    "___"
   ]
  },
  {
   "cell_type": "markdown",
   "id": "ee2b5773",
   "metadata": {},
   "source": [
    "### Adopting the above model for vehicles dataset"
   ]
  },
  {
   "cell_type": "code",
   "execution_count": 24,
   "id": "c8fed9bd",
   "metadata": {},
   "outputs": [],
   "source": [
    "data_dir = \"C:\\\\Users\\\\welcome\\\\Desktop\\\\AI&DS-COURSEWORK\\\\vehicles_images\\\\vehicles_images\"\n",
    "batch_size = 32\n",
    "img_height, img_width = 180, 180"
   ]
  },
  {
   "cell_type": "code",
   "execution_count": 25,
   "id": "6b0cf842",
   "metadata": {
    "scrolled": true
   },
   "outputs": [
    {
     "name": "stdout",
     "output_type": "stream",
     "text": [
      "Found 4318 files belonging to 4 classes.\n",
      "Using 3455 files for training.\n"
     ]
    }
   ],
   "source": [
    "train_data = keras.preprocessing.image_dataset_from_directory(data_dir,\n",
    "                                                             batch_size=batch_size,\n",
    "                                                             validation_split=0.2,\n",
    "                                                             image_size=(img_height, img_width),\n",
    "                                                             subset='training',\n",
    "                                                             seed=123)"
   ]
  },
  {
   "cell_type": "code",
   "execution_count": 26,
   "id": "2647f044",
   "metadata": {},
   "outputs": [
    {
     "name": "stdout",
     "output_type": "stream",
     "text": [
      "Found 4318 files belonging to 4 classes.\n",
      "Using 863 files for validation.\n"
     ]
    }
   ],
   "source": [
    "val_data = keras.preprocessing.image_dataset_from_directory(data_dir,\n",
    "                                                             batch_size=batch_size,\n",
    "                                                             validation_split=0.2,\n",
    "                                                             image_size=(img_height, img_width),\n",
    "                                                            subset='validation',\n",
    "                                                             seed=123)"
   ]
  },
  {
   "cell_type": "code",
   "execution_count": 27,
   "id": "35db57b1",
   "metadata": {
    "scrolled": true
   },
   "outputs": [
    {
     "name": "stdout",
     "output_type": "stream",
     "text": [
      "['bus', 'motorcycle', 'plane', 'train']\n"
     ]
    }
   ],
   "source": [
    "cls_names = train_data.class_names\n",
    "print(cls_names)"
   ]
  },
  {
   "cell_type": "code",
   "execution_count": 6,
   "id": "3f246c9f",
   "metadata": {},
   "outputs": [
    {
     "name": "stdout",
     "output_type": "stream",
     "text": [
      "-1\n"
     ]
    }
   ],
   "source": [
    "auto_tune = tf.data.AUTOTUNE\n",
    "print(auto_tune)"
   ]
  },
  {
   "cell_type": "code",
   "execution_count": 30,
   "id": "e1076d2e",
   "metadata": {
    "scrolled": false
   },
   "outputs": [
    {
     "data": {
      "text/plain": [
       "<PrefetchDataset shapes: ((None, 180, 180, 3), (None,)), types: (tf.float32, tf.int32)>"
      ]
     },
     "execution_count": 30,
     "metadata": {},
     "output_type": "execute_result"
    }
   ],
   "source": [
    "train_data = train_data.cache().shuffle(1000).prefetch(buffer_size=auto_tune)\n",
    "train_data"
   ]
  },
  {
   "cell_type": "code",
   "execution_count": 31,
   "id": "d038a28e",
   "metadata": {},
   "outputs": [
    {
     "data": {
      "text/plain": [
       "<PrefetchDataset shapes: ((None, 180, 180, 3), (None,)), types: (tf.float32, tf.int32)>"
      ]
     },
     "execution_count": 31,
     "metadata": {},
     "output_type": "execute_result"
    }
   ],
   "source": [
    "val_data = val_data.cache().prefetch(buffer_size=auto_tune)\n",
    "val_data"
   ]
  },
  {
   "cell_type": "code",
   "execution_count": 32,
   "id": "65174c8f",
   "metadata": {},
   "outputs": [
    {
     "name": "stdout",
     "output_type": "stream",
     "text": [
      "<keras.layers.preprocessing.image_preprocessing.Rescaling object at 0x000001B20CD3B220>\n"
     ]
    }
   ],
   "source": [
    "normalization_layer = layers.experimental.preprocessing.Rescaling(1./255)\n",
    "print(normalization_layer)"
   ]
  },
  {
   "cell_type": "code",
   "execution_count": 33,
   "id": "d70c3fda",
   "metadata": {},
   "outputs": [
    {
     "name": "stdout",
     "output_type": "stream",
     "text": [
      "<MapDataset shapes: ((None, 180, 180, 3), (None,)), types: (tf.float32, tf.int32)>\n"
     ]
    }
   ],
   "source": [
    "normalization_data = train_data.map(lambda x, y: (normalization_layer(x), y))\n",
    "print(normalization_data)"
   ]
  },
  {
   "cell_type": "code",
   "execution_count": 34,
   "id": "43a17f95",
   "metadata": {},
   "outputs": [],
   "source": [
    "image_batch, labels_batch = next(iter(normalization_data))"
   ]
  },
  {
   "cell_type": "code",
   "execution_count": 35,
   "id": "e5890d3b",
   "metadata": {},
   "outputs": [],
   "source": [
    "first_image = image_batch[0]"
   ]
  },
  {
   "cell_type": "code",
   "execution_count": 36,
   "id": "bbde7d8b",
   "metadata": {
    "scrolled": true
   },
   "outputs": [
    {
     "name": "stdout",
     "output_type": "stream",
     "text": [
      "0.0 1.0\n"
     ]
    }
   ],
   "source": [
    "print(np.min(first_image), np.max(first_image))"
   ]
  },
  {
   "cell_type": "code",
   "execution_count": 37,
   "id": "c4762a07",
   "metadata": {},
   "outputs": [],
   "source": [
    "num_classes = 4\n",
    "\n",
    "model = Sequential()\n",
    "\n",
    "model.add(layers.experimental.preprocessing.Rescaling(1./255, input_shape=(img_height, img_width, 3)))\n",
    "model.add(layers.Conv2D(16, 3, padding='same', activation='relu'))\n",
    "model.add(layers.MaxPooling2D())\n",
    "model.add(layers.Conv2D(32, 3, padding='same', activation='relu'))\n",
    "model.add(layers.MaxPooling2D())\n",
    "model.add(layers.Conv2D(64, 3, padding='same', activation='relu'))\n",
    "model.add(layers.MaxPooling2D())\n",
    "model.add(layers.Flatten())\n",
    "model.add(layers.Dense(128, activation='relu'))\n",
    "model.add(layers.Dense(num_classes))"
   ]
  },
  {
   "cell_type": "code",
   "execution_count": 38,
   "id": "97998038",
   "metadata": {},
   "outputs": [
    {
     "name": "stdout",
     "output_type": "stream",
     "text": [
      "Model: \"sequential_1\"\n",
      "_________________________________________________________________\n",
      " Layer (type)                Output Shape              Param #   \n",
      "=================================================================\n",
      " rescaling_3 (Rescaling)     (None, 180, 180, 3)       0         \n",
      "                                                                 \n",
      " conv2d_3 (Conv2D)           (None, 180, 180, 16)      448       \n",
      "                                                                 \n",
      " max_pooling2d_3 (MaxPooling  (None, 90, 90, 16)       0         \n",
      " 2D)                                                             \n",
      "                                                                 \n",
      " conv2d_4 (Conv2D)           (None, 90, 90, 32)        4640      \n",
      "                                                                 \n",
      " max_pooling2d_4 (MaxPooling  (None, 45, 45, 32)       0         \n",
      " 2D)                                                             \n",
      "                                                                 \n",
      " conv2d_5 (Conv2D)           (None, 45, 45, 64)        18496     \n",
      "                                                                 \n",
      " max_pooling2d_5 (MaxPooling  (None, 22, 22, 64)       0         \n",
      " 2D)                                                             \n",
      "                                                                 \n",
      " flatten_1 (Flatten)         (None, 30976)             0         \n",
      "                                                                 \n",
      " dense_2 (Dense)             (None, 128)               3965056   \n",
      "                                                                 \n",
      " dense_3 (Dense)             (None, 4)                 516       \n",
      "                                                                 \n",
      "=================================================================\n",
      "Total params: 3,989,156\n",
      "Trainable params: 3,989,156\n",
      "Non-trainable params: 0\n",
      "_________________________________________________________________\n"
     ]
    }
   ],
   "source": [
    "model.compile(optimizer='adam',\n",
    "             loss=tf.keras.losses.SparseCategoricalCrossentropy(from_logits=True),\n",
    "             metrics=['accuracy'])\n",
    "\n",
    "model.summary()"
   ]
  },
  {
   "cell_type": "code",
   "execution_count": 39,
   "id": "ee10b356",
   "metadata": {},
   "outputs": [
    {
     "name": "stdout",
     "output_type": "stream",
     "text": [
      "Epoch 1/10\n",
      "108/108 [==============================] - 125s 1s/step - loss: 1.2464 - accuracy: 0.4463 - val_loss: 1.1023 - val_accuracy: 0.5423\n",
      "Epoch 2/10\n",
      "108/108 [==============================] - 138s 1s/step - loss: 0.9910 - accuracy: 0.5977 - val_loss: 1.1175 - val_accuracy: 0.5435\n",
      "Epoch 3/10\n",
      "108/108 [==============================] - 126s 1s/step - loss: 0.8707 - accuracy: 0.6492 - val_loss: 0.9523 - val_accuracy: 0.6199\n",
      "Epoch 4/10\n",
      "108/108 [==============================] - 152s 1s/step - loss: 0.7469 - accuracy: 0.7114 - val_loss: 1.0472 - val_accuracy: 0.5852\n",
      "Epoch 5/10\n",
      "108/108 [==============================] - 142s 1s/step - loss: 0.5568 - accuracy: 0.7971 - val_loss: 1.1750 - val_accuracy: 0.5411\n",
      "Epoch 6/10\n",
      "108/108 [==============================] - 140s 1s/step - loss: 0.3818 - accuracy: 0.8695 - val_loss: 1.2942 - val_accuracy: 0.5771\n",
      "Epoch 7/10\n",
      "108/108 [==============================] - 133s 1s/step - loss: 0.2600 - accuracy: 0.9169 - val_loss: 1.4689 - val_accuracy: 0.5597\n",
      "Epoch 8/10\n",
      "108/108 [==============================] - 123s 1s/step - loss: 0.1855 - accuracy: 0.9511 - val_loss: 1.5036 - val_accuracy: 0.5979\n",
      "Epoch 9/10\n",
      "108/108 [==============================] - 99s 913ms/step - loss: 0.1524 - accuracy: 0.9595 - val_loss: 1.6606 - val_accuracy: 0.5771\n",
      "Epoch 10/10\n",
      "108/108 [==============================] - 197s 2s/step - loss: 0.1299 - accuracy: 0.9644 - val_loss: 1.8447 - val_accuracy: 0.5910\n"
     ]
    }
   ],
   "source": [
    "epochs = 10\n",
    "history = model.fit(train_data, validation_data=val_data, epochs=epochs)"
   ]
  },
  {
   "cell_type": "code",
   "execution_count": 40,
   "id": "498da1f1",
   "metadata": {},
   "outputs": [
    {
     "name": "stdout",
     "output_type": "stream",
     "text": [
      "[0.4463096857070923, 0.5976845026016235, 0.6492040753364563, 0.711432695388794, 0.7971056699752808, 0.8694645166397095, 0.9169319868087769, 0.9510853886604309, 0.959479033946991, 0.9643993973731995]\n",
      "[0.5422943234443665, 0.5434530973434448, 0.6199304461479187, 0.5851680040359497, 0.5411355495452881, 0.5770567655563354, 0.5596755743026733, 0.5979142785072327, 0.5770567655563354, 0.590961754322052]\n"
     ]
    }
   ],
   "source": [
    "acc = history.history['accuracy']\n",
    "print(acc)\n",
    "val_acc = history.history['val_accuracy']\n",
    "print(val_acc)"
   ]
  },
  {
   "cell_type": "code",
   "execution_count": 41,
   "id": "19b6a757",
   "metadata": {},
   "outputs": [
    {
     "name": "stdout",
     "output_type": "stream",
     "text": [
      "[1.2463916540145874, 0.9909635186195374, 0.8706783652305603, 0.7468768954277039, 0.556765079498291, 0.3817736506462097, 0.26004379987716675, 0.18548201024532318, 0.15244850516319275, 0.1298753023147583]\n",
      "[1.1022964715957642, 1.117507815361023, 0.9523159861564636, 1.0472372770309448, 1.175024151802063, 1.2942379713058472, 1.468912959098816, 1.5036174058914185, 1.6606409549713135, 1.8447400331497192]\n"
     ]
    }
   ],
   "source": [
    "loss = history.history['loss']\n",
    "print(loss)\n",
    "val_loss = history.history['val_loss']\n",
    "print(val_loss)"
   ]
  },
  {
   "cell_type": "code",
   "execution_count": 21,
   "id": "5e010b6e",
   "metadata": {},
   "outputs": [],
   "source": [
    "epochs_range = range(1, epochs+1)"
   ]
  },
  {
   "cell_type": "code",
   "execution_count": 22,
   "id": "c4f9e465",
   "metadata": {},
   "outputs": [
    {
     "data": {
      "image/png": "[encoded data removed]",
      "text/plain": [
       "<Figure size 576x576 with 2 Axes>"
      ]
     },
     "metadata": {
      "needs_background": "light"
     },
     "output_type": "display_data"
    }
   ],
   "source": [
    "plt.figure(figsize=(8, 8))\n",
    "plt.subplot(1, 2, 1)\n",
    "plt.plot(epochs_range, acc, label='Training Accuracy')\n",
    "plt.plot(epochs_range, val_acc, label='Validation Accuracy')\n",
    "plt.legend(loc='lower right')\n",
    "plt.title(\"Training and Validation Accuracy\")\n",
    "\n",
    "plt.subplot(1, 2, 2)\n",
    "plt.plot(epochs_range, loss, label='Training Loss')\n",
    "plt.plot(epochs_range, val_loss, label='Validation Loss')\n",
    "plt.legend(loc='upper right')\n",
    "plt.title('Training and Validation Loss')\n",
    "plt.show()"
   ]
  },
  {
   "cell_type": "code",
   "execution_count": 23,
   "id": "b8633c47",
   "metadata": {},
   "outputs": [
    {
     "name": "stdout",
     "output_type": "stream",
     "text": [
      "16/16 [==============================] - 4s 222ms/step - loss: 1.4685 - accuracy: 0.6632\n"
     ]
    },
    {
     "data": {
      "text/plain": [
       "[1.4685462713241577, 0.663223147392273]"
      ]
     },
     "execution_count": 23,
     "metadata": {},
     "output_type": "execute_result"
    }
   ],
   "source": [
    "model.evaluate(val_ds)"
   ]
  },
  {
   "cell_type": "code",
   "execution_count": null,
   "id": "fa2fa8b6",
   "metadata": {},
   "outputs": [],
   "source": []
  },
  {
   "cell_type": "code",
   "execution_count": null,
   "id": "b788a074",
   "metadata": {},
   "outputs": [],
   "source": []
  }
 ],
 "metadata": {
  "kernelspec": {
   "display_name": "Python 3 (ipykernel)",
   "language": "python",
   "name": "python3"
  },
  "language_info": {
   "codemirror_mode": {
    "name": "ipython",
    "version": 3
   },
   "file_extension": ".py",
   "mimetype": "text/x-python",
   "name": "python",
   "nbconvert_exporter": "python",
   "pygments_lexer": "ipython3",
   "version": "3.9.7"
  }
 },
 "nbformat": 4,
 "nbformat_minor": 5
}
